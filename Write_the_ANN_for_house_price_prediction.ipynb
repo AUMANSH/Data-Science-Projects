{
  "nbformat": 4,
  "nbformat_minor": 0,
  "metadata": {
    "colab": {
      "provenance": [],
      "include_colab_link": true
    },
    "kernelspec": {
      "name": "python3",
      "display_name": "Python 3"
    },
    "language_info": {
      "name": "python"
    }
  },
  "cells": [
    {
      "cell_type": "markdown",
      "metadata": {
        "id": "view-in-github",
        "colab_type": "text"
      },
      "source": [
        "<a href=\"https://colab.research.google.com/github/AUMANSH/Data-Science-Projects/blob/main/Write_the_ANN_for_house_price_prediction.ipynb\" target=\"_parent\"><img src=\"https://colab.research.google.com/assets/colab-badge.svg\" alt=\"Open In Colab\"/></a>"
      ]
    },
    {
      "cell_type": "code",
      "execution_count": null,
      "metadata": {
        "id": "nf71JZpfVvJv"
      },
      "outputs": [],
      "source": [
        "import pandas as pd\n",
        "import numpy as np\n",
        "import seaborn as sns\n",
        "import matplotlib.pyplot as plt"
      ]
    },
    {
      "cell_type": "code",
      "source": [
        "df = pd.read_csv('/content/Housing.csv')"
      ],
      "metadata": {
        "id": "4wWwCBLqA0zy"
      },
      "execution_count": null,
      "outputs": []
    },
    {
      "cell_type": "code",
      "source": [
        "df.info()"
      ],
      "metadata": {
        "colab": {
          "base_uri": "https://localhost:8080/"
        },
        "id": "BvdJQSrgA5-Q",
        "outputId": "f0079b16-32d5-4231-abcb-f9c6ccca862b"
      },
      "execution_count": null,
      "outputs": [
        {
          "output_type": "stream",
          "name": "stdout",
          "text": [
            "<class 'pandas.core.frame.DataFrame'>\n",
            "RangeIndex: 545 entries, 0 to 544\n",
            "Data columns (total 13 columns):\n",
            " #   Column            Non-Null Count  Dtype \n",
            "---  ------            --------------  ----- \n",
            " 0   price             545 non-null    int64 \n",
            " 1   area              545 non-null    int64 \n",
            " 2   bedrooms          545 non-null    int64 \n",
            " 3   bathrooms         545 non-null    int64 \n",
            " 4   stories           545 non-null    int64 \n",
            " 5   mainroad          545 non-null    object\n",
            " 6   guestroom         545 non-null    object\n",
            " 7   basement          545 non-null    object\n",
            " 8   hotwaterheating   545 non-null    object\n",
            " 9   airconditioning   545 non-null    object\n",
            " 10  parking           545 non-null    int64 \n",
            " 11  prefarea          545 non-null    object\n",
            " 12  furnishingstatus  545 non-null    object\n",
            "dtypes: int64(6), object(7)\n",
            "memory usage: 55.5+ KB\n"
          ]
        }
      ]
    },
    {
      "cell_type": "code",
      "source": [
        "df.duplicated().sum()"
      ],
      "metadata": {
        "colab": {
          "base_uri": "https://localhost:8080/"
        },
        "id": "o6Gux-VwA9Q2",
        "outputId": "fb9d0755-87e3-42a6-9911-90f3ce4fa38f"
      },
      "execution_count": null,
      "outputs": [
        {
          "output_type": "execute_result",
          "data": {
            "text/plain": [
              "np.int64(0)"
            ]
          },
          "metadata": {},
          "execution_count": 4
        }
      ]
    },
    {
      "cell_type": "code",
      "source": [
        "from sklearn.model_selection import train_test_split\n",
        "\n",
        "X = df.drop('price', axis=1)\n",
        "y = df['price']\n",
        "\n",
        "X_train, X_test, y_train, y_test = train_test_split(\n",
        "    X, y, test_size=0.2, random_state=42)\n"
      ],
      "metadata": {
        "id": "fXY_Lg9pBRdo"
      },
      "execution_count": null,
      "outputs": []
    },
    {
      "cell_type": "code",
      "source": [
        "# Identify categorical columns\n",
        "categorical_cols = X_train.select_dtypes(include='object').columns\n",
        "print(\"Categorical columns:\", categorical_cols)\n",
        "\n",
        "# Apply one-hot encoding\n",
        "X_train_encoded = pd.get_dummies(X_train, columns=categorical_cols, drop_first=True)\n",
        "X_test_encoded = pd.get_dummies(X_test, columns=categorical_cols, drop_first=True)\n",
        "\n",
        "# Ensure columns are consistent after one-hot encoding\n",
        "# This is important because the test set might not have all categories present in the training set\n",
        "train_cols = X_train_encoded.columns\n",
        "test_cols = X_test_encoded.columns\n",
        "\n",
        "missing_in_test = set(train_cols) - set(test_cols)\n",
        "for c in missing_in_test:\n",
        "    X_test_encoded[c] = 0\n",
        "# Ensure the order of columns is the same\n",
        "X_test_encoded = X_test_encoded[train_cols]\n"
      ],
      "metadata": {
        "colab": {
          "base_uri": "https://localhost:8080/"
        },
        "id": "41UTyLPGYc3n",
        "outputId": "e901ac02-c22a-4548-a208-57a82329a989"
      },
      "execution_count": null,
      "outputs": [
        {
          "output_type": "stream",
          "name": "stdout",
          "text": [
            "Categorical columns: Index(['mainroad', 'guestroom', 'basement', 'hotwaterheating',\n",
            "       'airconditioning', 'prefarea', 'furnishingstatus'],\n",
            "      dtype='object')\n"
          ]
        }
      ]
    },
    {
      "cell_type": "code",
      "source": [
        "from sklearn.preprocessing import StandardScaler\n",
        "# Apply StandardScaler to the encoded data\n",
        "scaler = StandardScaler()\n",
        "X_train_scaled = scaler.fit_transform(X_train_encoded)\n",
        "X_test_scaled = scaler.transform(X_test_encoded)\n",
        "\n",
        "print(\"\\nShape of scaled training data:\", X_train_scaled.shape)\n",
        "print(\"Shape of scaled test data:\", X_test_scaled.shape)\n"
      ],
      "metadata": {
        "id": "wLQMadAbBYGD",
        "colab": {
          "base_uri": "https://localhost:8080/"
        },
        "outputId": "8e61367f-d6b7-4be5-b8cb-0be9d1e6f352"
      },
      "execution_count": null,
      "outputs": [
        {
          "output_type": "stream",
          "name": "stdout",
          "text": [
            "\n",
            "Shape of scaled training data: (436, 13)\n",
            "Shape of scaled test data: (109, 13)\n"
          ]
        }
      ]
    },
    {
      "cell_type": "code",
      "source": [
        "X_train_scaled"
      ],
      "metadata": {
        "colab": {
          "base_uri": "https://localhost:8080/"
        },
        "id": "c9GmokEybfQ1",
        "outputId": "092091a8-d80b-4423-e64a-b4ca23c5a82a"
      },
      "execution_count": null,
      "outputs": [
        {
          "output_type": "execute_result",
          "data": {
            "text/plain": [
              "array([[ 0.38416819,  0.05527092,  1.53917323, ..., -0.55262032,\n",
              "        -0.870669  , -0.67690027],\n",
              "       [ 0.9291807 ,  0.05527092,  1.53917323, ..., -0.55262032,\n",
              "         1.14854209, -0.67690027],\n",
              "       [-0.60775457, -1.28351359, -0.5579503 , ..., -0.55262032,\n",
              "        -0.870669  , -0.67690027],\n",
              "       ...,\n",
              "       [-0.29709744,  0.05527092,  1.53917323, ..., -0.55262032,\n",
              "        -0.870669  , -0.67690027],\n",
              "       [-0.5060189 , -1.28351359, -0.5579503 , ..., -0.55262032,\n",
              "        -0.870669  ,  1.47732249],\n",
              "       [ 0.15707965,  0.05527092,  1.53917323, ..., -0.55262032,\n",
              "         1.14854209, -0.67690027]])"
            ]
          },
          "metadata": {},
          "execution_count": 8
        }
      ]
    },
    {
      "cell_type": "code",
      "source": [
        "X_test_scaled"
      ],
      "metadata": {
        "colab": {
          "base_uri": "https://localhost:8080/"
        },
        "id": "lujDM12ObkuH",
        "outputId": "510dbf1e-08bc-4bc3-b5a6-7e0ca46788ba"
      },
      "execution_count": null,
      "outputs": [
        {
          "output_type": "execute_result",
          "data": {
            "text/plain": [
              "array([[ 0.33875048,  1.39405543,  1.53917323, ..., -0.55262032,\n",
              "        -0.870669  ,  1.47732249],\n",
              "       [ 0.61125674,  0.05527092,  1.53917323, ...,  1.80956067,\n",
              "        -0.870669  , -0.67690027],\n",
              "       [-0.5060189 , -1.28351359, -0.5579503 , ..., -0.55262032,\n",
              "         1.14854209, -0.67690027],\n",
              "       ...,\n",
              "       [ 0.38416819,  1.39405543,  1.53917323, ..., -0.55262032,\n",
              "         1.14854209, -0.67690027],\n",
              "       [ 0.38416819,  0.05527092,  1.53917323, ..., -0.55262032,\n",
              "         1.14854209, -0.67690027],\n",
              "       [ 0.4295859 ,  0.05527092,  1.53917323, ...,  1.80956067,\n",
              "        -0.870669  , -0.67690027]])"
            ]
          },
          "metadata": {},
          "execution_count": 9
        }
      ]
    },
    {
      "cell_type": "code",
      "source": [
        "y_test"
      ],
      "metadata": {
        "colab": {
          "base_uri": "https://localhost:8080/",
          "height": 458
        },
        "id": "gBw_EWzvboPN",
        "outputId": "e9e45b3a-b87b-40b7-c6f5-3c7cc0325d69"
      },
      "execution_count": null,
      "outputs": [
        {
          "output_type": "execute_result",
          "data": {
            "text/plain": [
              "316    4060000\n",
              "77     6650000\n",
              "360    3710000\n",
              "90     6440000\n",
              "493    2800000\n",
              "        ...   \n",
              "15     9100000\n",
              "357    3773000\n",
              "39     7910000\n",
              "54     7350000\n",
              "155    5530000\n",
              "Name: price, Length: 109, dtype: int64"
            ],
            "text/html": [
              "<div>\n",
              "<style scoped>\n",
              "    .dataframe tbody tr th:only-of-type {\n",
              "        vertical-align: middle;\n",
              "    }\n",
              "\n",
              "    .dataframe tbody tr th {\n",
              "        vertical-align: top;\n",
              "    }\n",
              "\n",
              "    .dataframe thead th {\n",
              "        text-align: right;\n",
              "    }\n",
              "</style>\n",
              "<table border=\"1\" class=\"dataframe\">\n",
              "  <thead>\n",
              "    <tr style=\"text-align: right;\">\n",
              "      <th></th>\n",
              "      <th>price</th>\n",
              "    </tr>\n",
              "  </thead>\n",
              "  <tbody>\n",
              "    <tr>\n",
              "      <th>316</th>\n",
              "      <td>4060000</td>\n",
              "    </tr>\n",
              "    <tr>\n",
              "      <th>77</th>\n",
              "      <td>6650000</td>\n",
              "    </tr>\n",
              "    <tr>\n",
              "      <th>360</th>\n",
              "      <td>3710000</td>\n",
              "    </tr>\n",
              "    <tr>\n",
              "      <th>90</th>\n",
              "      <td>6440000</td>\n",
              "    </tr>\n",
              "    <tr>\n",
              "      <th>493</th>\n",
              "      <td>2800000</td>\n",
              "    </tr>\n",
              "    <tr>\n",
              "      <th>...</th>\n",
              "      <td>...</td>\n",
              "    </tr>\n",
              "    <tr>\n",
              "      <th>15</th>\n",
              "      <td>9100000</td>\n",
              "    </tr>\n",
              "    <tr>\n",
              "      <th>357</th>\n",
              "      <td>3773000</td>\n",
              "    </tr>\n",
              "    <tr>\n",
              "      <th>39</th>\n",
              "      <td>7910000</td>\n",
              "    </tr>\n",
              "    <tr>\n",
              "      <th>54</th>\n",
              "      <td>7350000</td>\n",
              "    </tr>\n",
              "    <tr>\n",
              "      <th>155</th>\n",
              "      <td>5530000</td>\n",
              "    </tr>\n",
              "  </tbody>\n",
              "</table>\n",
              "<p>109 rows × 1 columns</p>\n",
              "</div><br><label><b>dtype:</b> int64</label>"
            ]
          },
          "metadata": {},
          "execution_count": 10
        }
      ]
    },
    {
      "cell_type": "code",
      "source": [
        "y_test"
      ],
      "metadata": {
        "colab": {
          "base_uri": "https://localhost:8080/",
          "height": 458
        },
        "id": "LuXxedexbrc1",
        "outputId": "c33235f9-a3be-4992-8b30-a02e7e42ff1c"
      },
      "execution_count": null,
      "outputs": [
        {
          "output_type": "execute_result",
          "data": {
            "text/plain": [
              "316    4060000\n",
              "77     6650000\n",
              "360    3710000\n",
              "90     6440000\n",
              "493    2800000\n",
              "        ...   \n",
              "15     9100000\n",
              "357    3773000\n",
              "39     7910000\n",
              "54     7350000\n",
              "155    5530000\n",
              "Name: price, Length: 109, dtype: int64"
            ],
            "text/html": [
              "<div>\n",
              "<style scoped>\n",
              "    .dataframe tbody tr th:only-of-type {\n",
              "        vertical-align: middle;\n",
              "    }\n",
              "\n",
              "    .dataframe tbody tr th {\n",
              "        vertical-align: top;\n",
              "    }\n",
              "\n",
              "    .dataframe thead th {\n",
              "        text-align: right;\n",
              "    }\n",
              "</style>\n",
              "<table border=\"1\" class=\"dataframe\">\n",
              "  <thead>\n",
              "    <tr style=\"text-align: right;\">\n",
              "      <th></th>\n",
              "      <th>price</th>\n",
              "    </tr>\n",
              "  </thead>\n",
              "  <tbody>\n",
              "    <tr>\n",
              "      <th>316</th>\n",
              "      <td>4060000</td>\n",
              "    </tr>\n",
              "    <tr>\n",
              "      <th>77</th>\n",
              "      <td>6650000</td>\n",
              "    </tr>\n",
              "    <tr>\n",
              "      <th>360</th>\n",
              "      <td>3710000</td>\n",
              "    </tr>\n",
              "    <tr>\n",
              "      <th>90</th>\n",
              "      <td>6440000</td>\n",
              "    </tr>\n",
              "    <tr>\n",
              "      <th>493</th>\n",
              "      <td>2800000</td>\n",
              "    </tr>\n",
              "    <tr>\n",
              "      <th>...</th>\n",
              "      <td>...</td>\n",
              "    </tr>\n",
              "    <tr>\n",
              "      <th>15</th>\n",
              "      <td>9100000</td>\n",
              "    </tr>\n",
              "    <tr>\n",
              "      <th>357</th>\n",
              "      <td>3773000</td>\n",
              "    </tr>\n",
              "    <tr>\n",
              "      <th>39</th>\n",
              "      <td>7910000</td>\n",
              "    </tr>\n",
              "    <tr>\n",
              "      <th>54</th>\n",
              "      <td>7350000</td>\n",
              "    </tr>\n",
              "    <tr>\n",
              "      <th>155</th>\n",
              "      <td>5530000</td>\n",
              "    </tr>\n",
              "  </tbody>\n",
              "</table>\n",
              "<p>109 rows × 1 columns</p>\n",
              "</div><br><label><b>dtype:</b> int64</label>"
            ]
          },
          "metadata": {},
          "execution_count": 11
        }
      ]
    },
    {
      "cell_type": "code",
      "source": [
        "import tensorflow\n",
        "from tensorflow import keras\n",
        "from tensorflow.keras import Sequential\n",
        "from tensorflow.keras.layers import Dense, Dropout"
      ],
      "metadata": {
        "id": "g-YdM73UBcEh"
      },
      "execution_count": null,
      "outputs": []
    },
    {
      "cell_type": "code",
      "source": [
        "model = Sequential()\n",
        "model.add(Dense(128, activation='relu', input_dim=X_train_scaled.shape[1]))\n",
        "model.add(Dropout(0.2))\n",
        "model.add(Dense(64, activation='relu'))\n",
        "model.add(Dropout(0.2))\n",
        "model.add(Dense(32, activation='relu'))\n",
        "model.add(Dense(1, activation='linear'))  # linear for regression"
      ],
      "metadata": {
        "id": "Hml_PHPFBeBN",
        "colab": {
          "base_uri": "https://localhost:8080/"
        },
        "outputId": "8e65ec05-b6fc-4d5e-ead7-8ecee17453b3"
      },
      "execution_count": null,
      "outputs": [
        {
          "output_type": "stream",
          "name": "stderr",
          "text": [
            "/usr/local/lib/python3.11/dist-packages/keras/src/layers/core/dense.py:87: UserWarning: Do not pass an `input_shape`/`input_dim` argument to a layer. When using Sequential models, prefer using an `Input(shape)` object as the first layer in the model instead.\n",
            "  super().__init__(activity_regularizer=activity_regularizer, **kwargs)\n"
          ]
        }
      ]
    },
    {
      "cell_type": "code",
      "source": [
        "model.summary()"
      ],
      "metadata": {
        "colab": {
          "base_uri": "https://localhost:8080/",
          "height": 340
        },
        "id": "PfukFjLNBhrt",
        "outputId": "4948ad94-34db-42fe-beb6-944c62d9bcab"
      },
      "execution_count": null,
      "outputs": [
        {
          "output_type": "display_data",
          "data": {
            "text/plain": [
              "\u001b[1mModel: \"sequential\"\u001b[0m\n"
            ],
            "text/html": [
              "<pre style=\"white-space:pre;overflow-x:auto;line-height:normal;font-family:Menlo,'DejaVu Sans Mono',consolas,'Courier New',monospace\"><span style=\"font-weight: bold\">Model: \"sequential\"</span>\n",
              "</pre>\n"
            ]
          },
          "metadata": {}
        },
        {
          "output_type": "display_data",
          "data": {
            "text/plain": [
              "┏━━━━━━━━━━━━━━━━━━━━━━━━━━━━━━━━━┳━━━━━━━━━━━━━━━━━━━━━━━━┳━━━━━━━━━━━━━━━┓\n",
              "┃\u001b[1m \u001b[0m\u001b[1mLayer (type)                   \u001b[0m\u001b[1m \u001b[0m┃\u001b[1m \u001b[0m\u001b[1mOutput Shape          \u001b[0m\u001b[1m \u001b[0m┃\u001b[1m \u001b[0m\u001b[1m      Param #\u001b[0m\u001b[1m \u001b[0m┃\n",
              "┡━━━━━━━━━━━━━━━━━━━━━━━━━━━━━━━━━╇━━━━━━━━━━━━━━━━━━━━━━━━╇━━━━━━━━━━━━━━━┩\n",
              "│ dense (\u001b[38;5;33mDense\u001b[0m)                   │ (\u001b[38;5;45mNone\u001b[0m, \u001b[38;5;34m128\u001b[0m)            │         \u001b[38;5;34m1,792\u001b[0m │\n",
              "├─────────────────────────────────┼────────────────────────┼───────────────┤\n",
              "│ dropout (\u001b[38;5;33mDropout\u001b[0m)               │ (\u001b[38;5;45mNone\u001b[0m, \u001b[38;5;34m128\u001b[0m)            │             \u001b[38;5;34m0\u001b[0m │\n",
              "├─────────────────────────────────┼────────────────────────┼───────────────┤\n",
              "│ dense_1 (\u001b[38;5;33mDense\u001b[0m)                 │ (\u001b[38;5;45mNone\u001b[0m, \u001b[38;5;34m64\u001b[0m)             │         \u001b[38;5;34m8,256\u001b[0m │\n",
              "├─────────────────────────────────┼────────────────────────┼───────────────┤\n",
              "│ dropout_1 (\u001b[38;5;33mDropout\u001b[0m)             │ (\u001b[38;5;45mNone\u001b[0m, \u001b[38;5;34m64\u001b[0m)             │             \u001b[38;5;34m0\u001b[0m │\n",
              "├─────────────────────────────────┼────────────────────────┼───────────────┤\n",
              "│ dense_2 (\u001b[38;5;33mDense\u001b[0m)                 │ (\u001b[38;5;45mNone\u001b[0m, \u001b[38;5;34m32\u001b[0m)             │         \u001b[38;5;34m2,080\u001b[0m │\n",
              "├─────────────────────────────────┼────────────────────────┼───────────────┤\n",
              "│ dense_3 (\u001b[38;5;33mDense\u001b[0m)                 │ (\u001b[38;5;45mNone\u001b[0m, \u001b[38;5;34m1\u001b[0m)              │            \u001b[38;5;34m33\u001b[0m │\n",
              "└─────────────────────────────────┴────────────────────────┴───────────────┘\n"
            ],
            "text/html": [
              "<pre style=\"white-space:pre;overflow-x:auto;line-height:normal;font-family:Menlo,'DejaVu Sans Mono',consolas,'Courier New',monospace\">┏━━━━━━━━━━━━━━━━━━━━━━━━━━━━━━━━━┳━━━━━━━━━━━━━━━━━━━━━━━━┳━━━━━━━━━━━━━━━┓\n",
              "┃<span style=\"font-weight: bold\"> Layer (type)                    </span>┃<span style=\"font-weight: bold\"> Output Shape           </span>┃<span style=\"font-weight: bold\">       Param # </span>┃\n",
              "┡━━━━━━━━━━━━━━━━━━━━━━━━━━━━━━━━━╇━━━━━━━━━━━━━━━━━━━━━━━━╇━━━━━━━━━━━━━━━┩\n",
              "│ dense (<span style=\"color: #0087ff; text-decoration-color: #0087ff\">Dense</span>)                   │ (<span style=\"color: #00d7ff; text-decoration-color: #00d7ff\">None</span>, <span style=\"color: #00af00; text-decoration-color: #00af00\">128</span>)            │         <span style=\"color: #00af00; text-decoration-color: #00af00\">1,792</span> │\n",
              "├─────────────────────────────────┼────────────────────────┼───────────────┤\n",
              "│ dropout (<span style=\"color: #0087ff; text-decoration-color: #0087ff\">Dropout</span>)               │ (<span style=\"color: #00d7ff; text-decoration-color: #00d7ff\">None</span>, <span style=\"color: #00af00; text-decoration-color: #00af00\">128</span>)            │             <span style=\"color: #00af00; text-decoration-color: #00af00\">0</span> │\n",
              "├─────────────────────────────────┼────────────────────────┼───────────────┤\n",
              "│ dense_1 (<span style=\"color: #0087ff; text-decoration-color: #0087ff\">Dense</span>)                 │ (<span style=\"color: #00d7ff; text-decoration-color: #00d7ff\">None</span>, <span style=\"color: #00af00; text-decoration-color: #00af00\">64</span>)             │         <span style=\"color: #00af00; text-decoration-color: #00af00\">8,256</span> │\n",
              "├─────────────────────────────────┼────────────────────────┼───────────────┤\n",
              "│ dropout_1 (<span style=\"color: #0087ff; text-decoration-color: #0087ff\">Dropout</span>)             │ (<span style=\"color: #00d7ff; text-decoration-color: #00d7ff\">None</span>, <span style=\"color: #00af00; text-decoration-color: #00af00\">64</span>)             │             <span style=\"color: #00af00; text-decoration-color: #00af00\">0</span> │\n",
              "├─────────────────────────────────┼────────────────────────┼───────────────┤\n",
              "│ dense_2 (<span style=\"color: #0087ff; text-decoration-color: #0087ff\">Dense</span>)                 │ (<span style=\"color: #00d7ff; text-decoration-color: #00d7ff\">None</span>, <span style=\"color: #00af00; text-decoration-color: #00af00\">32</span>)             │         <span style=\"color: #00af00; text-decoration-color: #00af00\">2,080</span> │\n",
              "├─────────────────────────────────┼────────────────────────┼───────────────┤\n",
              "│ dense_3 (<span style=\"color: #0087ff; text-decoration-color: #0087ff\">Dense</span>)                 │ (<span style=\"color: #00d7ff; text-decoration-color: #00d7ff\">None</span>, <span style=\"color: #00af00; text-decoration-color: #00af00\">1</span>)              │            <span style=\"color: #00af00; text-decoration-color: #00af00\">33</span> │\n",
              "└─────────────────────────────────┴────────────────────────┴───────────────┘\n",
              "</pre>\n"
            ]
          },
          "metadata": {}
        },
        {
          "output_type": "display_data",
          "data": {
            "text/plain": [
              "\u001b[1m Total params: \u001b[0m\u001b[38;5;34m12,161\u001b[0m (47.50 KB)\n"
            ],
            "text/html": [
              "<pre style=\"white-space:pre;overflow-x:auto;line-height:normal;font-family:Menlo,'DejaVu Sans Mono',consolas,'Courier New',monospace\"><span style=\"font-weight: bold\"> Total params: </span><span style=\"color: #00af00; text-decoration-color: #00af00\">12,161</span> (47.50 KB)\n",
              "</pre>\n"
            ]
          },
          "metadata": {}
        },
        {
          "output_type": "display_data",
          "data": {
            "text/plain": [
              "\u001b[1m Trainable params: \u001b[0m\u001b[38;5;34m12,161\u001b[0m (47.50 KB)\n"
            ],
            "text/html": [
              "<pre style=\"white-space:pre;overflow-x:auto;line-height:normal;font-family:Menlo,'DejaVu Sans Mono',consolas,'Courier New',monospace\"><span style=\"font-weight: bold\"> Trainable params: </span><span style=\"color: #00af00; text-decoration-color: #00af00\">12,161</span> (47.50 KB)\n",
              "</pre>\n"
            ]
          },
          "metadata": {}
        },
        {
          "output_type": "display_data",
          "data": {
            "text/plain": [
              "\u001b[1m Non-trainable params: \u001b[0m\u001b[38;5;34m0\u001b[0m (0.00 B)\n"
            ],
            "text/html": [
              "<pre style=\"white-space:pre;overflow-x:auto;line-height:normal;font-family:Menlo,'DejaVu Sans Mono',consolas,'Courier New',monospace\"><span style=\"font-weight: bold\"> Non-trainable params: </span><span style=\"color: #00af00; text-decoration-color: #00af00\">0</span> (0.00 B)\n",
              "</pre>\n"
            ]
          },
          "metadata": {}
        }
      ]
    },
    {
      "cell_type": "code",
      "source": [
        "model.compile(optimizer='adam', loss='mean_squared_error', metrics=['mae'])"
      ],
      "metadata": {
        "id": "p7qc0Tj9BiiI"
      },
      "execution_count": null,
      "outputs": []
    },
    {
      "cell_type": "code",
      "source": [
        "history = model.fit(X_train_scaled,y_train,batch_size=64,epochs=300,verbose=1,validation_split=0.2) # verbose = 0 to code ki working nahi dikhegi"
      ],
      "metadata": {
        "colab": {
          "base_uri": "https://localhost:8080/"
        },
        "id": "YY0LhEIBBpyO",
        "outputId": "8ebbbaaa-ec80-4970-b1eb-7f937a9344c1"
      },
      "execution_count": null,
      "outputs": [
        {
          "output_type": "stream",
          "name": "stdout",
          "text": [
            "Epoch 1/300\n",
            "\u001b[1m6/6\u001b[0m \u001b[32m━━━━━━━━━━━━━━━━━━━━\u001b[0m\u001b[37m\u001b[0m \u001b[1m2s\u001b[0m 55ms/step - loss: 25181703634944.0000 - mae: 4713085.0000 - val_loss: 24781594296320.0000 - val_mae: 4623896.5000\n",
            "Epoch 2/300\n",
            "\u001b[1m6/6\u001b[0m \u001b[32m━━━━━━━━━━━━━━━━━━━━\u001b[0m\u001b[37m\u001b[0m \u001b[1m0s\u001b[0m 15ms/step - loss: 26044532785152.0000 - mae: 4792648.5000 - val_loss: 24781583810560.0000 - val_mae: 4623896.0000\n",
            "Epoch 3/300\n",
            "\u001b[1m6/6\u001b[0m \u001b[32m━━━━━━━━━━━━━━━━━━━━\u001b[0m\u001b[37m\u001b[0m \u001b[1m0s\u001b[0m 15ms/step - loss: 24827693891584.0000 - mae: 4692116.5000 - val_loss: 24781573324800.0000 - val_mae: 4623894.5000\n",
            "Epoch 4/300\n",
            "\u001b[1m6/6\u001b[0m \u001b[32m━━━━━━━━━━━━━━━━━━━━\u001b[0m\u001b[37m\u001b[0m \u001b[1m0s\u001b[0m 14ms/step - loss: 25221406916608.0000 - mae: 4719422.5000 - val_loss: 24781556547584.0000 - val_mae: 4623892.5000\n",
            "Epoch 5/300\n",
            "\u001b[1m6/6\u001b[0m \u001b[32m━━━━━━━━━━━━━━━━━━━━\u001b[0m\u001b[37m\u001b[0m \u001b[1m0s\u001b[0m 15ms/step - loss: 26145774895104.0000 - mae: 4802164.5000 - val_loss: 24781529284608.0000 - val_mae: 4623890.0000\n",
            "Epoch 6/300\n",
            "\u001b[1m6/6\u001b[0m \u001b[32m━━━━━━━━━━━━━━━━━━━━\u001b[0m\u001b[37m\u001b[0m \u001b[1m0s\u001b[0m 17ms/step - loss: 26001702649856.0000 - mae: 4781440.5000 - val_loss: 24781493633024.0000 - val_mae: 4623886.5000\n",
            "Epoch 7/300\n",
            "\u001b[1m6/6\u001b[0m \u001b[32m━━━━━━━━━━━━━━━━━━━━\u001b[0m\u001b[37m\u001b[0m \u001b[1m0s\u001b[0m 14ms/step - loss: 25352208384000.0000 - mae: 4714848.0000 - val_loss: 24781443301376.0000 - val_mae: 4623880.5000\n",
            "Epoch 8/300\n",
            "\u001b[1m6/6\u001b[0m \u001b[32m━━━━━━━━━━━━━━━━━━━━\u001b[0m\u001b[37m\u001b[0m \u001b[1m0s\u001b[0m 15ms/step - loss: 26282513399808.0000 - mae: 4791667.5000 - val_loss: 24781369901056.0000 - val_mae: 4623874.0000\n",
            "Epoch 9/300\n",
            "\u001b[1m6/6\u001b[0m \u001b[32m━━━━━━━━━━━━━━━━━━━━\u001b[0m\u001b[37m\u001b[0m \u001b[1m0s\u001b[0m 14ms/step - loss: 26338498969600.0000 - mae: 4811921.0000 - val_loss: 24781271334912.0000 - val_mae: 4623864.0000\n",
            "Epoch 10/300\n",
            "\u001b[1m6/6\u001b[0m \u001b[32m━━━━━━━━━━━━━━━━━━━━\u001b[0m\u001b[37m\u001b[0m \u001b[1m0s\u001b[0m 15ms/step - loss: 25049731956736.0000 - mae: 4732828.0000 - val_loss: 24781135020032.0000 - val_mae: 4623850.5000\n",
            "Epoch 11/300\n",
            "\u001b[1m6/6\u001b[0m \u001b[32m━━━━━━━━━━━━━━━━━━━━\u001b[0m\u001b[37m\u001b[0m \u001b[1m0s\u001b[0m 14ms/step - loss: 26354949029888.0000 - mae: 4805796.5000 - val_loss: 24780954664960.0000 - val_mae: 4623832.5000\n",
            "Epoch 12/300\n",
            "\u001b[1m6/6\u001b[0m \u001b[32m━━━━━━━━━━━━━━━━━━━━\u001b[0m\u001b[37m\u001b[0m \u001b[1m0s\u001b[0m 15ms/step - loss: 26144948617216.0000 - mae: 4794845.0000 - val_loss: 24780721881088.0000 - val_mae: 4623810.0000\n",
            "Epoch 13/300\n",
            "\u001b[1m6/6\u001b[0m \u001b[32m━━━━━━━━━━━━━━━━━━━━\u001b[0m\u001b[37m\u001b[0m \u001b[1m0s\u001b[0m 14ms/step - loss: 25923420160000.0000 - mae: 4781873.5000 - val_loss: 24780419891200.0000 - val_mae: 4623781.0000\n",
            "Epoch 14/300\n",
            "\u001b[1m6/6\u001b[0m \u001b[32m━━━━━━━━━━━━━━━━━━━━\u001b[0m\u001b[37m\u001b[0m \u001b[1m0s\u001b[0m 22ms/step - loss: 25352927707136.0000 - mae: 4715673.0000 - val_loss: 24780038209536.0000 - val_mae: 4623744.0000\n",
            "Epoch 15/300\n",
            "\u001b[1m6/6\u001b[0m \u001b[32m━━━━━━━━━━━━━━━━━━━━\u001b[0m\u001b[37m\u001b[0m \u001b[1m0s\u001b[0m 23ms/step - loss: 24099076177920.0000 - mae: 4616085.5000 - val_loss: 24779555864576.0000 - val_mae: 4623699.0000\n",
            "Epoch 16/300\n",
            "\u001b[1m6/6\u001b[0m \u001b[32m━━━━━━━━━━━━━━━━━━━━\u001b[0m\u001b[37m\u001b[0m \u001b[1m0s\u001b[0m 27ms/step - loss: 25440989216768.0000 - mae: 4739200.0000 - val_loss: 24778956079104.0000 - val_mae: 4623641.5000\n",
            "Epoch 17/300\n",
            "\u001b[1m6/6\u001b[0m \u001b[32m━━━━━━━━━━━━━━━━━━━━\u001b[0m\u001b[37m\u001b[0m \u001b[1m0s\u001b[0m 28ms/step - loss: 24567085006848.0000 - mae: 4656905.5000 - val_loss: 24778222075904.0000 - val_mae: 4623573.0000\n",
            "Epoch 18/300\n",
            "\u001b[1m6/6\u001b[0m \u001b[32m━━━━━━━━━━━━━━━━━━━━\u001b[0m\u001b[37m\u001b[0m \u001b[1m0s\u001b[0m 28ms/step - loss: 25806342455296.0000 - mae: 4751753.0000 - val_loss: 24777322397696.0000 - val_mae: 4623489.0000\n",
            "Epoch 19/300\n",
            "\u001b[1m6/6\u001b[0m \u001b[32m━━━━━━━━━━━━━━━━━━━━\u001b[0m\u001b[37m\u001b[0m \u001b[1m0s\u001b[0m 21ms/step - loss: 24766742265856.0000 - mae: 4679166.0000 - val_loss: 24776223490048.0000 - val_mae: 4623387.5000\n",
            "Epoch 20/300\n",
            "\u001b[1m6/6\u001b[0m \u001b[32m━━━━━━━━━━━━━━━━━━━━\u001b[0m\u001b[37m\u001b[0m \u001b[1m0s\u001b[0m 24ms/step - loss: 24870826016768.0000 - mae: 4697297.5000 - val_loss: 24774895992832.0000 - val_mae: 4623266.0000\n",
            "Epoch 21/300\n",
            "\u001b[1m6/6\u001b[0m \u001b[32m━━━━━━━━━━━━━━━━━━━━\u001b[0m\u001b[37m\u001b[0m \u001b[1m0s\u001b[0m 24ms/step - loss: 25128582774784.0000 - mae: 4700660.5000 - val_loss: 24773323128832.0000 - val_mae: 4623122.0000\n",
            "Epoch 22/300\n",
            "\u001b[1m6/6\u001b[0m \u001b[32m━━━━━━━━━━━━━━━━━━━━\u001b[0m\u001b[37m\u001b[0m \u001b[1m0s\u001b[0m 29ms/step - loss: 25062268731392.0000 - mae: 4697260.5000 - val_loss: 24771456663552.0000 - val_mae: 4622951.5000\n",
            "Epoch 23/300\n",
            "\u001b[1m6/6\u001b[0m \u001b[32m━━━━━━━━━━━━━━━━━━━━\u001b[0m\u001b[37m\u001b[0m \u001b[1m0s\u001b[0m 16ms/step - loss: 25504272875520.0000 - mae: 4760871.0000 - val_loss: 24769248362496.0000 - val_mae: 4622752.0000\n",
            "Epoch 24/300\n",
            "\u001b[1m6/6\u001b[0m \u001b[32m━━━━━━━━━━━━━━━━━━━━\u001b[0m\u001b[37m\u001b[0m \u001b[1m0s\u001b[0m 15ms/step - loss: 25097177923584.0000 - mae: 4669042.0000 - val_loss: 24766668865536.0000 - val_mae: 4622519.5000\n",
            "Epoch 25/300\n",
            "\u001b[1m6/6\u001b[0m \u001b[32m━━━━━━━━━━━━━━━━━━━━\u001b[0m\u001b[37m\u001b[0m \u001b[1m0s\u001b[0m 16ms/step - loss: 25446701858816.0000 - mae: 4699606.5000 - val_loss: 24763642675200.0000 - val_mae: 4622248.5000\n",
            "Epoch 26/300\n",
            "\u001b[1m6/6\u001b[0m \u001b[32m━━━━━━━━━━━━━━━━━━━━\u001b[0m\u001b[37m\u001b[0m \u001b[1m0s\u001b[0m 16ms/step - loss: 24944352165888.0000 - mae: 4705399.0000 - val_loss: 24760159305728.0000 - val_mae: 4621938.0000\n",
            "Epoch 27/300\n",
            "\u001b[1m6/6\u001b[0m \u001b[32m━━━━━━━━━━━━━━━━━━━━\u001b[0m\u001b[37m\u001b[0m \u001b[1m0s\u001b[0m 15ms/step - loss: 25673045377024.0000 - mae: 4762141.5000 - val_loss: 24756143259648.0000 - val_mae: 4621582.0000\n",
            "Epoch 28/300\n",
            "\u001b[1m6/6\u001b[0m \u001b[32m━━━━━━━━━━━━━━━━━━━━\u001b[0m\u001b[37m\u001b[0m \u001b[1m0s\u001b[0m 16ms/step - loss: 25933094322176.0000 - mae: 4748147.0000 - val_loss: 24751630188544.0000 - val_mae: 4621181.0000\n",
            "Epoch 29/300\n",
            "\u001b[1m6/6\u001b[0m \u001b[32m━━━━━━━━━━━━━━━━━━━━\u001b[0m\u001b[37m\u001b[0m \u001b[1m0s\u001b[0m 23ms/step - loss: 25636601069568.0000 - mae: 4751704.5000 - val_loss: 24746483777536.0000 - val_mae: 4620727.5000\n",
            "Epoch 30/300\n",
            "\u001b[1m6/6\u001b[0m \u001b[32m━━━━━━━━━━━━━━━━━━━━\u001b[0m\u001b[37m\u001b[0m \u001b[1m0s\u001b[0m 16ms/step - loss: 25387841093632.0000 - mae: 4725333.5000 - val_loss: 24740569808896.0000 - val_mae: 4620207.5000\n",
            "Epoch 31/300\n",
            "\u001b[1m6/6\u001b[0m \u001b[32m━━━━━━━━━━━━━━━━━━━━\u001b[0m\u001b[37m\u001b[0m \u001b[1m0s\u001b[0m 16ms/step - loss: 26070799613952.0000 - mae: 4768959.0000 - val_loss: 24733942808576.0000 - val_mae: 4619625.0000\n",
            "Epoch 32/300\n",
            "\u001b[1m6/6\u001b[0m \u001b[32m━━━━━━━━━━━━━━━━━━━━\u001b[0m\u001b[37m\u001b[0m \u001b[1m0s\u001b[0m 15ms/step - loss: 26671436529664.0000 - mae: 4822901.0000 - val_loss: 24726449684480.0000 - val_mae: 4618970.0000\n",
            "Epoch 33/300\n",
            "\u001b[1m6/6\u001b[0m \u001b[32m━━━━━━━━━━━━━━━━━━━━\u001b[0m\u001b[37m\u001b[0m \u001b[1m0s\u001b[0m 16ms/step - loss: 25516694306816.0000 - mae: 4764563.0000 - val_loss: 24718100922368.0000 - val_mae: 4618240.0000\n",
            "Epoch 34/300\n",
            "\u001b[1m6/6\u001b[0m \u001b[32m━━━━━━━━━━━━━━━━━━━━\u001b[0m\u001b[37m\u001b[0m \u001b[1m0s\u001b[0m 16ms/step - loss: 25278176821248.0000 - mae: 4698383.0000 - val_loss: 24708827316224.0000 - val_mae: 4617430.5000\n",
            "Epoch 35/300\n",
            "\u001b[1m6/6\u001b[0m \u001b[32m━━━━━━━━━━━━━━━━━━━━\u001b[0m\u001b[37m\u001b[0m \u001b[1m0s\u001b[0m 15ms/step - loss: 24812141412352.0000 - mae: 4681737.0000 - val_loss: 24698465288192.0000 - val_mae: 4616531.0000\n",
            "Epoch 36/300\n",
            "\u001b[1m6/6\u001b[0m \u001b[32m━━━━━━━━━━━━━━━━━━━━\u001b[0m\u001b[37m\u001b[0m \u001b[1m0s\u001b[0m 16ms/step - loss: 24929653227520.0000 - mae: 4701775.5000 - val_loss: 24686855454720.0000 - val_mae: 4615527.0000\n",
            "Epoch 37/300\n",
            "\u001b[1m6/6\u001b[0m \u001b[32m━━━━━━━━━━━━━━━━━━━━\u001b[0m\u001b[37m\u001b[0m \u001b[1m0s\u001b[0m 15ms/step - loss: 24752278208512.0000 - mae: 4677638.5000 - val_loss: 24674186559488.0000 - val_mae: 4614432.5000\n",
            "Epoch 38/300\n",
            "\u001b[1m6/6\u001b[0m \u001b[32m━━━━━━━━━━━━━━━━━━━━\u001b[0m\u001b[37m\u001b[0m \u001b[1m0s\u001b[0m 17ms/step - loss: 25456552181760.0000 - mae: 4758212.0000 - val_loss: 24660242595840.0000 - val_mae: 4613230.5000\n",
            "Epoch 39/300\n",
            "\u001b[1m6/6\u001b[0m \u001b[32m━━━━━━━━━━━━━━━━━━━━\u001b[0m\u001b[37m\u001b[0m \u001b[1m0s\u001b[0m 15ms/step - loss: 25664845512704.0000 - mae: 4758874.5000 - val_loss: 24645006786560.0000 - val_mae: 4611917.0000\n",
            "Epoch 40/300\n",
            "\u001b[1m6/6\u001b[0m \u001b[32m━━━━━━━━━━━━━━━━━━━━\u001b[0m\u001b[37m\u001b[0m \u001b[1m0s\u001b[0m 15ms/step - loss: 25698410430464.0000 - mae: 4762878.0000 - val_loss: 24628468645888.0000 - val_mae: 4610490.0000\n",
            "Epoch 41/300\n",
            "\u001b[1m6/6\u001b[0m \u001b[32m━━━━━━━━━━━━━━━━━━━━\u001b[0m\u001b[37m\u001b[0m \u001b[1m0s\u001b[0m 17ms/step - loss: 24946862456832.0000 - mae: 4685984.5000 - val_loss: 24610686894080.0000 - val_mae: 4608956.5000\n",
            "Epoch 42/300\n",
            "\u001b[1m6/6\u001b[0m \u001b[32m━━━━━━━━━━━━━━━━━━━━\u001b[0m\u001b[37m\u001b[0m \u001b[1m0s\u001b[0m 23ms/step - loss: 24265770401792.0000 - mae: 4640404.0000 - val_loss: 24591363735552.0000 - val_mae: 4607292.5000\n",
            "Epoch 43/300\n",
            "\u001b[1m6/6\u001b[0m \u001b[32m━━━━━━━━━━━━━━━━━━━━\u001b[0m\u001b[37m\u001b[0m \u001b[1m0s\u001b[0m 16ms/step - loss: 25393929125888.0000 - mae: 4735358.0000 - val_loss: 24569985368064.0000 - val_mae: 4605458.5000\n",
            "Epoch 44/300\n",
            "\u001b[1m6/6\u001b[0m \u001b[32m━━━━━━━━━━━━━━━━━━━━\u001b[0m\u001b[37m\u001b[0m \u001b[1m0s\u001b[0m 17ms/step - loss: 24644809654272.0000 - mae: 4662465.0000 - val_loss: 24547245948928.0000 - val_mae: 4603505.0000\n",
            "Epoch 45/300\n",
            "\u001b[1m6/6\u001b[0m \u001b[32m━━━━━━━━━━━━━━━━━━━━\u001b[0m\u001b[37m\u001b[0m \u001b[1m0s\u001b[0m 20ms/step - loss: 24708049272832.0000 - mae: 4681796.0000 - val_loss: 24522526818304.0000 - val_mae: 4601384.5000\n",
            "Epoch 46/300\n",
            "\u001b[1m6/6\u001b[0m \u001b[32m━━━━━━━━━━━━━━━━━━━━\u001b[0m\u001b[37m\u001b[0m \u001b[1m0s\u001b[0m 16ms/step - loss: 25477714542592.0000 - mae: 4742681.5000 - val_loss: 24495672786944.0000 - val_mae: 4599083.5000\n",
            "Epoch 47/300\n",
            "\u001b[1m6/6\u001b[0m \u001b[32m━━━━━━━━━━━━━━━━━━━━\u001b[0m\u001b[37m\u001b[0m \u001b[1m0s\u001b[0m 15ms/step - loss: 25444199956480.0000 - mae: 4742500.0000 - val_loss: 24467185074176.0000 - val_mae: 4596639.0000\n",
            "Epoch 48/300\n",
            "\u001b[1m6/6\u001b[0m \u001b[32m━━━━━━━━━━━━━━━━━━━━\u001b[0m\u001b[37m\u001b[0m \u001b[1m0s\u001b[0m 16ms/step - loss: 24288604192768.0000 - mae: 4652553.0000 - val_loss: 24436415660032.0000 - val_mae: 4593999.0000\n",
            "Epoch 49/300\n",
            "\u001b[1m6/6\u001b[0m \u001b[32m━━━━━━━━━━━━━━━━━━━━\u001b[0m\u001b[37m\u001b[0m \u001b[1m0s\u001b[0m 16ms/step - loss: 25183276498944.0000 - mae: 4732668.0000 - val_loss: 24402737496064.0000 - val_mae: 4591119.0000\n",
            "Epoch 50/300\n",
            "\u001b[1m6/6\u001b[0m \u001b[32m━━━━━━━━━━━━━━━━━━━━\u001b[0m\u001b[37m\u001b[0m \u001b[1m0s\u001b[0m 17ms/step - loss: 25909228732416.0000 - mae: 4793278.5000 - val_loss: 24366280605696.0000 - val_mae: 4588004.5000\n",
            "Epoch 51/300\n",
            "\u001b[1m6/6\u001b[0m \u001b[32m━━━━━━━━━━━━━━━━━━━━\u001b[0m\u001b[37m\u001b[0m \u001b[1m0s\u001b[0m 16ms/step - loss: 25388696731648.0000 - mae: 4721224.5000 - val_loss: 24327793672192.0000 - val_mae: 4584715.0000\n",
            "Epoch 52/300\n",
            "\u001b[1m6/6\u001b[0m \u001b[32m━━━━━━━━━━━━━━━━━━━━\u001b[0m\u001b[37m\u001b[0m \u001b[1m0s\u001b[0m 15ms/step - loss: 25183943393280.0000 - mae: 4705609.0000 - val_loss: 24286588829696.0000 - val_mae: 4581196.5000\n",
            "Epoch 53/300\n",
            "\u001b[1m6/6\u001b[0m \u001b[32m━━━━━━━━━━━━━━━━━━━━\u001b[0m\u001b[37m\u001b[0m \u001b[1m0s\u001b[0m 18ms/step - loss: 24521822175232.0000 - mae: 4671948.5000 - val_loss: 24242586386432.0000 - val_mae: 4577440.0000\n",
            "Epoch 54/300\n",
            "\u001b[1m6/6\u001b[0m \u001b[32m━━━━━━━━━━━━━━━━━━━━\u001b[0m\u001b[37m\u001b[0m \u001b[1m0s\u001b[0m 15ms/step - loss: 24153583255552.0000 - mae: 4649864.5000 - val_loss: 24195729719296.0000 - val_mae: 4573434.0000\n",
            "Epoch 55/300\n",
            "\u001b[1m6/6\u001b[0m \u001b[32m━━━━━━━━━━━━━━━━━━━━\u001b[0m\u001b[37m\u001b[0m \u001b[1m0s\u001b[0m 15ms/step - loss: 24389026316288.0000 - mae: 4666288.5000 - val_loss: 24145419042816.0000 - val_mae: 4569136.0000\n",
            "Epoch 56/300\n",
            "\u001b[1m6/6\u001b[0m \u001b[32m━━━━━━━━━━━━━━━━━━━━\u001b[0m\u001b[37m\u001b[0m \u001b[1m0s\u001b[0m 16ms/step - loss: 23833664815104.0000 - mae: 4610672.5000 - val_loss: 24092065398784.0000 - val_mae: 4564573.0000\n",
            "Epoch 57/300\n",
            "\u001b[1m6/6\u001b[0m \u001b[32m━━━━━━━━━━━━━━━━━━━━\u001b[0m\u001b[37m\u001b[0m \u001b[1m0s\u001b[0m 24ms/step - loss: 23474051481600.0000 - mae: 4583369.5000 - val_loss: 24035104653312.0000 - val_mae: 4559703.5000\n",
            "Epoch 58/300\n",
            "\u001b[1m6/6\u001b[0m \u001b[32m━━━━━━━━━━━━━━━━━━━━\u001b[0m\u001b[37m\u001b[0m \u001b[1m0s\u001b[0m 16ms/step - loss: 25789980475392.0000 - mae: 4728723.0000 - val_loss: 23974438240256.0000 - val_mae: 4554519.5000\n",
            "Epoch 59/300\n",
            "\u001b[1m6/6\u001b[0m \u001b[32m━━━━━━━━━━━━━━━━━━━━\u001b[0m\u001b[37m\u001b[0m \u001b[1m0s\u001b[0m 15ms/step - loss: 24868227645440.0000 - mae: 4698508.0000 - val_loss: 23911318159360.0000 - val_mae: 4549109.5000\n",
            "Epoch 60/300\n",
            "\u001b[1m6/6\u001b[0m \u001b[32m━━━━━━━━━━━━━━━━━━━━\u001b[0m\u001b[37m\u001b[0m \u001b[1m0s\u001b[0m 18ms/step - loss: 24196935581696.0000 - mae: 4602160.0000 - val_loss: 23845436129280.0000 - val_mae: 4543446.0000\n",
            "Epoch 61/300\n",
            "\u001b[1m6/6\u001b[0m \u001b[32m━━━━━━━━━━━━━━━━━━━━\u001b[0m\u001b[37m\u001b[0m \u001b[1m0s\u001b[0m 15ms/step - loss: 24748553666560.0000 - mae: 4679593.0000 - val_loss: 23775345115136.0000 - val_mae: 4537421.0000\n",
            "Epoch 62/300\n",
            "\u001b[1m6/6\u001b[0m \u001b[32m━━━━━━━━━━━━━━━━━━━━\u001b[0m\u001b[37m\u001b[0m \u001b[1m0s\u001b[0m 15ms/step - loss: 24460069437440.0000 - mae: 4660800.5000 - val_loss: 23701158363136.0000 - val_mae: 4531044.0000\n",
            "Epoch 63/300\n",
            "\u001b[1m6/6\u001b[0m \u001b[32m━━━━━━━━━━━━━━━━━━━━\u001b[0m\u001b[37m\u001b[0m \u001b[1m0s\u001b[0m 23ms/step - loss: 24585751756800.0000 - mae: 4658486.5000 - val_loss: 23623356121088.0000 - val_mae: 4524347.5000\n",
            "Epoch 64/300\n",
            "\u001b[1m6/6\u001b[0m \u001b[32m━━━━━━━━━━━━━━━━━━━━\u001b[0m\u001b[37m\u001b[0m \u001b[1m0s\u001b[0m 16ms/step - loss: 23889440669696.0000 - mae: 4600210.5000 - val_loss: 23540646543360.0000 - val_mae: 4517222.5000\n",
            "Epoch 65/300\n",
            "\u001b[1m6/6\u001b[0m \u001b[32m━━━━━━━━━━━━━━━━━━━━\u001b[0m\u001b[37m\u001b[0m \u001b[1m0s\u001b[0m 16ms/step - loss: 24076783452160.0000 - mae: 4607607.0000 - val_loss: 23455309234176.0000 - val_mae: 4509837.0000\n",
            "Epoch 66/300\n",
            "\u001b[1m6/6\u001b[0m \u001b[32m━━━━━━━━━━━━━━━━━━━━\u001b[0m\u001b[37m\u001b[0m \u001b[1m0s\u001b[0m 15ms/step - loss: 23892884193280.0000 - mae: 4618587.0000 - val_loss: 23366092193792.0000 - val_mae: 4502115.5000\n",
            "Epoch 67/300\n",
            "\u001b[1m6/6\u001b[0m \u001b[32m━━━━━━━━━━━━━━━━━━━━\u001b[0m\u001b[37m\u001b[0m \u001b[1m0s\u001b[0m 15ms/step - loss: 22927860826112.0000 - mae: 4509214.0000 - val_loss: 23272802484224.0000 - val_mae: 4494009.5000\n",
            "Epoch 68/300\n",
            "\u001b[1m6/6\u001b[0m \u001b[32m━━━━━━━━━━━━━━━━━━━━\u001b[0m\u001b[37m\u001b[0m \u001b[1m0s\u001b[0m 16ms/step - loss: 24217233915904.0000 - mae: 4632708.0000 - val_loss: 23173420548096.0000 - val_mae: 4485376.0000\n",
            "Epoch 69/300\n",
            "\u001b[1m6/6\u001b[0m \u001b[32m━━━━━━━━━━━━━━━━━━━━\u001b[0m\u001b[37m\u001b[0m \u001b[1m0s\u001b[0m 15ms/step - loss: 23275358912512.0000 - mae: 4555112.0000 - val_loss: 23070146297856.0000 - val_mae: 4476379.0000\n",
            "Epoch 70/300\n",
            "\u001b[1m6/6\u001b[0m \u001b[32m━━━━━━━━━━━━━━━━━━━━\u001b[0m\u001b[37m\u001b[0m \u001b[1m0s\u001b[0m 16ms/step - loss: 23565908836352.0000 - mae: 4587567.0000 - val_loss: 22962795184128.0000 - val_mae: 4467006.0000\n",
            "Epoch 71/300\n",
            "\u001b[1m6/6\u001b[0m \u001b[32m━━━━━━━━━━━━━━━━━━━━\u001b[0m\u001b[37m\u001b[0m \u001b[1m0s\u001b[0m 15ms/step - loss: 22989202522112.0000 - mae: 4520847.5000 - val_loss: 22852050878464.0000 - val_mae: 4457291.5000\n",
            "Epoch 72/300\n",
            "\u001b[1m6/6\u001b[0m \u001b[32m━━━━━━━━━━━━━━━━━━━━\u001b[0m\u001b[37m\u001b[0m \u001b[1m0s\u001b[0m 15ms/step - loss: 23693273071616.0000 - mae: 4592924.5000 - val_loss: 22736095150080.0000 - val_mae: 4447093.0000\n",
            "Epoch 73/300\n",
            "\u001b[1m6/6\u001b[0m \u001b[32m━━━━━━━━━━━━━━━━━━━━\u001b[0m\u001b[37m\u001b[0m \u001b[1m0s\u001b[0m 15ms/step - loss: 22895333998592.0000 - mae: 4514810.0000 - val_loss: 22615794122752.0000 - val_mae: 4436474.0000\n",
            "Epoch 74/300\n",
            "\u001b[1m6/6\u001b[0m \u001b[32m━━━━━━━━━━━━━━━━━━━━\u001b[0m\u001b[37m\u001b[0m \u001b[1m0s\u001b[0m 15ms/step - loss: 23435897995264.0000 - mae: 4542110.0000 - val_loss: 22491099561984.0000 - val_mae: 4425427.5000\n",
            "Epoch 75/300\n",
            "\u001b[1m6/6\u001b[0m \u001b[32m━━━━━━━━━━━━━━━━━━━━\u001b[0m\u001b[37m\u001b[0m \u001b[1m0s\u001b[0m 15ms/step - loss: 23231847202816.0000 - mae: 4546392.5000 - val_loss: 22359895441408.0000 - val_mae: 4413787.0000\n",
            "Epoch 76/300\n",
            "\u001b[1m6/6\u001b[0m \u001b[32m━━━━━━━━━━━━━━━━━━━━\u001b[0m\u001b[37m\u001b[0m \u001b[1m0s\u001b[0m 15ms/step - loss: 23074766323712.0000 - mae: 4514104.0000 - val_loss: 22227042959360.0000 - val_mae: 4401926.0000\n",
            "Epoch 77/300\n",
            "\u001b[1m6/6\u001b[0m \u001b[32m━━━━━━━━━━━━━━━━━━━━\u001b[0m\u001b[37m\u001b[0m \u001b[1m0s\u001b[0m 15ms/step - loss: 23662411382784.0000 - mae: 4575738.0000 - val_loss: 22087339081728.0000 - val_mae: 4389435.5000\n",
            "Epoch 78/300\n",
            "\u001b[1m6/6\u001b[0m \u001b[32m━━━━━━━━━━━━━━━━━━━━\u001b[0m\u001b[37m\u001b[0m \u001b[1m0s\u001b[0m 15ms/step - loss: 21942071459840.0000 - mae: 4432096.5000 - val_loss: 21945395445760.0000 - val_mae: 4376671.5000\n",
            "Epoch 79/300\n",
            "\u001b[1m6/6\u001b[0m \u001b[32m━━━━━━━━━━━━━━━━━━━━\u001b[0m\u001b[37m\u001b[0m \u001b[1m0s\u001b[0m 16ms/step - loss: 22537652142080.0000 - mae: 4474841.0000 - val_loss: 21795893673984.0000 - val_mae: 4363189.0000\n",
            "Epoch 80/300\n",
            "\u001b[1m6/6\u001b[0m \u001b[32m━━━━━━━━━━━━━━━━━━━━\u001b[0m\u001b[37m\u001b[0m \u001b[1m0s\u001b[0m 15ms/step - loss: 22088639315968.0000 - mae: 4457555.5000 - val_loss: 21640232566784.0000 - val_mae: 4349102.5000\n",
            "Epoch 81/300\n",
            "\u001b[1m6/6\u001b[0m \u001b[32m━━━━━━━━━━━━━━━━━━━━\u001b[0m\u001b[37m\u001b[0m \u001b[1m0s\u001b[0m 15ms/step - loss: 22148166975488.0000 - mae: 4459743.5000 - val_loss: 21480576385024.0000 - val_mae: 4334557.5000\n",
            "Epoch 82/300\n",
            "\u001b[1m6/6\u001b[0m \u001b[32m━━━━━━━━━━━━━━━━━━━━\u001b[0m\u001b[37m\u001b[0m \u001b[1m0s\u001b[0m 15ms/step - loss: 21940035125248.0000 - mae: 4418584.0000 - val_loss: 21315595534336.0000 - val_mae: 4319454.5000\n",
            "Epoch 83/300\n",
            "\u001b[1m6/6\u001b[0m \u001b[32m━━━━━━━━━━━━━━━━━━━━\u001b[0m\u001b[37m\u001b[0m \u001b[1m0s\u001b[0m 15ms/step - loss: 21122758213632.0000 - mae: 4347273.0000 - val_loss: 21145050939392.0000 - val_mae: 4303739.5000\n",
            "Epoch 84/300\n",
            "\u001b[1m6/6\u001b[0m \u001b[32m━━━━━━━━━━━━━━━━━━━━\u001b[0m\u001b[37m\u001b[0m \u001b[1m0s\u001b[0m 17ms/step - loss: 21736036761600.0000 - mae: 4399374.5000 - val_loss: 20968135196672.0000 - val_mae: 4287360.5000\n",
            "Epoch 85/300\n",
            "\u001b[1m6/6\u001b[0m \u001b[32m━━━━━━━━━━━━━━━━━━━━\u001b[0m\u001b[37m\u001b[0m \u001b[1m0s\u001b[0m 15ms/step - loss: 21529125453824.0000 - mae: 4370591.0000 - val_loss: 20786104500224.0000 - val_mae: 4270430.0000\n",
            "Epoch 86/300\n",
            "\u001b[1m6/6\u001b[0m \u001b[32m━━━━━━━━━━━━━━━━━━━━\u001b[0m\u001b[37m\u001b[0m \u001b[1m0s\u001b[0m 16ms/step - loss: 21402000293888.0000 - mae: 4355012.0000 - val_loss: 20600332484608.0000 - val_mae: 4253024.5000\n",
            "Epoch 87/300\n",
            "\u001b[1m6/6\u001b[0m \u001b[32m━━━━━━━━━━━━━━━━━━━━\u001b[0m\u001b[37m\u001b[0m \u001b[1m0s\u001b[0m 17ms/step - loss: 21024842186752.0000 - mae: 4334665.5000 - val_loss: 20411056128000.0000 - val_mae: 4235158.0000\n",
            "Epoch 88/300\n",
            "\u001b[1m6/6\u001b[0m \u001b[32m━━━━━━━━━━━━━━━━━━━━\u001b[0m\u001b[37m\u001b[0m \u001b[1m0s\u001b[0m 15ms/step - loss: 21558047277056.0000 - mae: 4385704.0000 - val_loss: 20215184228352.0000 - val_mae: 4216560.0000\n",
            "Epoch 89/300\n",
            "\u001b[1m6/6\u001b[0m \u001b[32m━━━━━━━━━━━━━━━━━━━━\u001b[0m\u001b[37m\u001b[0m \u001b[1m0s\u001b[0m 15ms/step - loss: 20243466420224.0000 - mae: 4244526.0000 - val_loss: 20016965615616.0000 - val_mae: 4197591.5000\n",
            "Epoch 90/300\n",
            "\u001b[1m6/6\u001b[0m \u001b[32m━━━━━━━━━━━━━━━━━━━━\u001b[0m\u001b[37m\u001b[0m \u001b[1m0s\u001b[0m 15ms/step - loss: 20108216893440.0000 - mae: 4241959.0000 - val_loss: 19812185014272.0000 - val_mae: 4177861.7500\n",
            "Epoch 91/300\n",
            "\u001b[1m6/6\u001b[0m \u001b[32m━━━━━━━━━━━━━━━━━━━━\u001b[0m\u001b[37m\u001b[0m \u001b[1m0s\u001b[0m 15ms/step - loss: 19827049627648.0000 - mae: 4225797.5000 - val_loss: 19599577841664.0000 - val_mae: 4157259.2500\n",
            "Epoch 92/300\n",
            "\u001b[1m6/6\u001b[0m \u001b[32m━━━━━━━━━━━━━━━━━━━━\u001b[0m\u001b[37m\u001b[0m \u001b[1m0s\u001b[0m 17ms/step - loss: 20572050292736.0000 - mae: 4264947.5000 - val_loss: 19384382783488.0000 - val_mae: 4136231.7500\n",
            "Epoch 93/300\n",
            "\u001b[1m6/6\u001b[0m \u001b[32m━━━━━━━━━━━━━━━━━━━━\u001b[0m\u001b[37m\u001b[0m \u001b[1m0s\u001b[0m 15ms/step - loss: 19803760754688.0000 - mae: 4229506.0000 - val_loss: 19168671825920.0000 - val_mae: 4114961.7500\n",
            "Epoch 94/300\n",
            "\u001b[1m6/6\u001b[0m \u001b[32m━━━━━━━━━━━━━━━━━━━━\u001b[0m\u001b[37m\u001b[0m \u001b[1m0s\u001b[0m 16ms/step - loss: 19113902604288.0000 - mae: 4140251.2500 - val_loss: 18945568407552.0000 - val_mae: 4092796.7500\n",
            "Epoch 95/300\n",
            "\u001b[1m6/6\u001b[0m \u001b[32m━━━━━━━━━━━━━━━━━━━━\u001b[0m\u001b[37m\u001b[0m \u001b[1m0s\u001b[0m 15ms/step - loss: 19624888369152.0000 - mae: 4189780.0000 - val_loss: 18719394758656.0000 - val_mae: 4070104.0000\n",
            "Epoch 96/300\n",
            "\u001b[1m6/6\u001b[0m \u001b[32m━━━━━━━━━━━━━━━━━━━━\u001b[0m\u001b[37m\u001b[0m \u001b[1m0s\u001b[0m 16ms/step - loss: 19073637285888.0000 - mae: 4151428.0000 - val_loss: 18489077137408.0000 - val_mae: 4046796.7500\n",
            "Epoch 97/300\n",
            "\u001b[1m6/6\u001b[0m \u001b[32m━━━━━━━━━━━━━━━━━━━━\u001b[0m\u001b[37m\u001b[0m \u001b[1m0s\u001b[0m 15ms/step - loss: 18973334700032.0000 - mae: 4142674.5000 - val_loss: 18253636173824.0000 - val_mae: 4022759.2500\n",
            "Epoch 98/300\n",
            "\u001b[1m6/6\u001b[0m \u001b[32m━━━━━━━━━━━━━━━━━━━━\u001b[0m\u001b[37m\u001b[0m \u001b[1m0s\u001b[0m 28ms/step - loss: 17772474007552.0000 - mae: 4000310.5000 - val_loss: 18019214426112.0000 - val_mae: 3998572.2500\n",
            "Epoch 99/300\n",
            "\u001b[1m6/6\u001b[0m \u001b[32m━━━━━━━━━━━━━━━━━━━━\u001b[0m\u001b[37m\u001b[0m \u001b[1m0s\u001b[0m 28ms/step - loss: 17881548980224.0000 - mae: 4026874.7500 - val_loss: 17777240834048.0000 - val_mae: 3973366.5000\n",
            "Epoch 100/300\n",
            "\u001b[1m6/6\u001b[0m \u001b[32m━━━━━━━━━━━━━━━━━━━━\u001b[0m\u001b[37m\u001b[0m \u001b[1m0s\u001b[0m 27ms/step - loss: 18402255044608.0000 - mae: 4066768.7500 - val_loss: 17529137266688.0000 - val_mae: 3947233.5000\n",
            "Epoch 101/300\n",
            "\u001b[1m6/6\u001b[0m \u001b[32m━━━━━━━━━━━━━━━━━━━━\u001b[0m\u001b[37m\u001b[0m \u001b[1m0s\u001b[0m 29ms/step - loss: 17886659739648.0000 - mae: 4002297.5000 - val_loss: 17280901578752.0000 - val_mae: 3920768.7500\n",
            "Epoch 102/300\n",
            "\u001b[1m6/6\u001b[0m \u001b[32m━━━━━━━━━━━━━━━━━━━━\u001b[0m\u001b[37m\u001b[0m \u001b[1m0s\u001b[0m 27ms/step - loss: 16736098189312.0000 - mae: 3879040.2500 - val_loss: 17029309399040.0000 - val_mae: 3893652.2500\n",
            "Epoch 103/300\n",
            "\u001b[1m6/6\u001b[0m \u001b[32m━━━━━━━━━━━━━━━━━━━━\u001b[0m\u001b[37m\u001b[0m \u001b[1m0s\u001b[0m 26ms/step - loss: 16115760627712.0000 - mae: 3827006.0000 - val_loss: 16774656425984.0000 - val_mae: 3865859.7500\n",
            "Epoch 104/300\n",
            "\u001b[1m6/6\u001b[0m \u001b[32m━━━━━━━━━━━━━━━━━━━━\u001b[0m\u001b[37m\u001b[0m \u001b[1m0s\u001b[0m 24ms/step - loss: 16939587993600.0000 - mae: 3922659.7500 - val_loss: 16516648009728.0000 - val_mae: 3837321.0000\n",
            "Epoch 105/300\n",
            "\u001b[1m6/6\u001b[0m \u001b[32m━━━━━━━━━━━━━━━━━━━━\u001b[0m\u001b[37m\u001b[0m \u001b[1m0s\u001b[0m 22ms/step - loss: 16926745034752.0000 - mae: 3895309.2500 - val_loss: 16257567948800.0000 - val_mae: 3808275.2500\n",
            "Epoch 106/300\n",
            "\u001b[1m6/6\u001b[0m \u001b[32m━━━━━━━━━━━━━━━━━━━━\u001b[0m\u001b[37m\u001b[0m \u001b[1m0s\u001b[0m 24ms/step - loss: 16612535042048.0000 - mae: 3877818.7500 - val_loss: 15997041901568.0000 - val_mae: 3778700.0000\n",
            "Epoch 107/300\n",
            "\u001b[1m6/6\u001b[0m \u001b[32m━━━━━━━━━━━━━━━━━━━━\u001b[0m\u001b[37m\u001b[0m \u001b[1m0s\u001b[0m 24ms/step - loss: 16163170942976.0000 - mae: 3838233.0000 - val_loss: 15740451160064.0000 - val_mae: 3749163.7500\n",
            "Epoch 108/300\n",
            "\u001b[1m6/6\u001b[0m \u001b[32m━━━━━━━━━━━━━━━━━━━━\u001b[0m\u001b[37m\u001b[0m \u001b[1m0s\u001b[0m 22ms/step - loss: 15697584324608.0000 - mae: 3757594.5000 - val_loss: 15483005829120.0000 - val_mae: 3719090.2500\n",
            "Epoch 109/300\n",
            "\u001b[1m6/6\u001b[0m \u001b[32m━━━━━━━━━━━━━━━━━━━━\u001b[0m\u001b[37m\u001b[0m \u001b[1m0s\u001b[0m 15ms/step - loss: 15038995759104.0000 - mae: 3700405.2500 - val_loss: 15223441326080.0000 - val_mae: 3688357.0000\n",
            "Epoch 110/300\n",
            "\u001b[1m6/6\u001b[0m \u001b[32m━━━━━━━━━━━━━━━━━━━━\u001b[0m\u001b[37m\u001b[0m \u001b[1m0s\u001b[0m 19ms/step - loss: 15457206665216.0000 - mae: 3738158.2500 - val_loss: 14950869237760.0000 - val_mae: 3655680.0000\n",
            "Epoch 111/300\n",
            "\u001b[1m6/6\u001b[0m \u001b[32m━━━━━━━━━━━━━━━━━━━━\u001b[0m\u001b[37m\u001b[0m \u001b[1m0s\u001b[0m 17ms/step - loss: 14737993629696.0000 - mae: 3653452.2500 - val_loss: 14685529178112.0000 - val_mae: 3623262.5000\n",
            "Epoch 112/300\n",
            "\u001b[1m6/6\u001b[0m \u001b[32m━━━━━━━━━━━━━━━━━━━━\u001b[0m\u001b[37m\u001b[0m \u001b[1m0s\u001b[0m 16ms/step - loss: 14872104402944.0000 - mae: 3663251.0000 - val_loss: 14421208334336.0000 - val_mae: 3590492.2500\n",
            "Epoch 113/300\n",
            "\u001b[1m6/6\u001b[0m \u001b[32m━━━━━━━━━━━━━━━━━━━━\u001b[0m\u001b[37m\u001b[0m \u001b[1m0s\u001b[0m 15ms/step - loss: 14338040528896.0000 - mae: 3593498.7500 - val_loss: 14158890270720.0000 - val_mae: 3557427.7500\n",
            "Epoch 114/300\n",
            "\u001b[1m6/6\u001b[0m \u001b[32m━━━━━━━━━━━━━━━━━━━━\u001b[0m\u001b[37m\u001b[0m \u001b[1m0s\u001b[0m 15ms/step - loss: 13633681620992.0000 - mae: 3511143.5000 - val_loss: 13897531654144.0000 - val_mae: 3523909.0000\n",
            "Epoch 115/300\n",
            "\u001b[1m6/6\u001b[0m \u001b[32m━━━━━━━━━━━━━━━━━━━━\u001b[0m\u001b[37m\u001b[0m \u001b[1m0s\u001b[0m 15ms/step - loss: 14288358998016.0000 - mae: 3596508.2500 - val_loss: 13633074495488.0000 - val_mae: 3489404.7500\n",
            "Epoch 116/300\n",
            "\u001b[1m6/6\u001b[0m \u001b[32m━━━━━━━━━━━━━━━━━━━━\u001b[0m\u001b[37m\u001b[0m \u001b[1m0s\u001b[0m 16ms/step - loss: 14185367863296.0000 - mae: 3563466.5000 - val_loss: 13367786864640.0000 - val_mae: 3454221.7500\n",
            "Epoch 117/300\n",
            "\u001b[1m6/6\u001b[0m \u001b[32m━━━━━━━━━━━━━━━━━━━━\u001b[0m\u001b[37m\u001b[0m \u001b[1m0s\u001b[0m 15ms/step - loss: 12964393385984.0000 - mae: 3427201.7500 - val_loss: 13109254160384.0000 - val_mae: 3419202.2500\n",
            "Epoch 118/300\n",
            "\u001b[1m6/6\u001b[0m \u001b[32m━━━━━━━━━━━━━━━━━━━━\u001b[0m\u001b[37m\u001b[0m \u001b[1m0s\u001b[0m 18ms/step - loss: 13268836941824.0000 - mae: 3466329.2500 - val_loss: 12847179366400.0000 - val_mae: 3383027.0000\n",
            "Epoch 119/300\n",
            "\u001b[1m6/6\u001b[0m \u001b[32m━━━━━━━━━━━━━━━━━━━━\u001b[0m\u001b[37m\u001b[0m \u001b[1m0s\u001b[0m 16ms/step - loss: 12642525642752.0000 - mae: 3399281.2500 - val_loss: 12592974135296.0000 - val_mae: 3347216.7500\n",
            "Epoch 120/300\n",
            "\u001b[1m6/6\u001b[0m \u001b[32m━━━━━━━━━━━━━━━━━━━━\u001b[0m\u001b[37m\u001b[0m \u001b[1m0s\u001b[0m 16ms/step - loss: 12169729015808.0000 - mae: 3323461.5000 - val_loss: 12341652488192.0000 - val_mae: 3311061.7500\n",
            "Epoch 121/300\n",
            "\u001b[1m6/6\u001b[0m \u001b[32m━━━━━━━━━━━━━━━━━━━━\u001b[0m\u001b[37m\u001b[0m \u001b[1m0s\u001b[0m 16ms/step - loss: 12233190932480.0000 - mae: 3311703.7500 - val_loss: 12091002978304.0000 - val_mae: 3274304.0000\n",
            "Epoch 122/300\n",
            "\u001b[1m6/6\u001b[0m \u001b[32m━━━━━━━━━━━━━━━━━━━━\u001b[0m\u001b[37m\u001b[0m \u001b[1m0s\u001b[0m 16ms/step - loss: 11777605632000.0000 - mae: 3248317.7500 - val_loss: 11838485954560.0000 - val_mae: 3236518.5000\n",
            "Epoch 123/300\n",
            "\u001b[1m6/6\u001b[0m \u001b[32m━━━━━━━━━━━━━━━━━━━━\u001b[0m\u001b[37m\u001b[0m \u001b[1m0s\u001b[0m 15ms/step - loss: 11401134342144.0000 - mae: 3200015.7500 - val_loss: 11595207933952.0000 - val_mae: 3199267.7500\n",
            "Epoch 124/300\n",
            "\u001b[1m6/6\u001b[0m \u001b[32m━━━━━━━━━━━━━━━━━━━━\u001b[0m\u001b[37m\u001b[0m \u001b[1m0s\u001b[0m 16ms/step - loss: 11707240939520.0000 - mae: 3221910.2500 - val_loss: 11352424841216.0000 - val_mae: 3161226.2500\n",
            "Epoch 125/300\n",
            "\u001b[1m6/6\u001b[0m \u001b[32m━━━━━━━━━━━━━━━━━━━━\u001b[0m\u001b[37m\u001b[0m \u001b[1m0s\u001b[0m 15ms/step - loss: 11415038459904.0000 - mae: 3191143.7500 - val_loss: 11113458565120.0000 - val_mae: 3122911.2500\n",
            "Epoch 126/300\n",
            "\u001b[1m6/6\u001b[0m \u001b[32m━━━━━━━━━━━━━━━━━━━━\u001b[0m\u001b[37m\u001b[0m \u001b[1m0s\u001b[0m 16ms/step - loss: 10682720321536.0000 - mae: 3083135.5000 - val_loss: 10874721927168.0000 - val_mae: 3083831.7500\n",
            "Epoch 127/300\n",
            "\u001b[1m6/6\u001b[0m \u001b[32m━━━━━━━━━━━━━━━━━━━━\u001b[0m\u001b[37m\u001b[0m \u001b[1m0s\u001b[0m 15ms/step - loss: 10673748705280.0000 - mae: 3085450.5000 - val_loss: 10640634675200.0000 - val_mae: 3044453.0000\n",
            "Epoch 128/300\n",
            "\u001b[1m6/6\u001b[0m \u001b[32m━━━━━━━━━━━━━━━━━━━━\u001b[0m\u001b[37m\u001b[0m \u001b[1m0s\u001b[0m 15ms/step - loss: 10272441892864.0000 - mae: 3012603.7500 - val_loss: 10416312811520.0000 - val_mae: 3005853.0000\n",
            "Epoch 129/300\n",
            "\u001b[1m6/6\u001b[0m \u001b[32m━━━━━━━━━━━━━━━━━━━━\u001b[0m\u001b[37m\u001b[0m \u001b[1m0s\u001b[0m 15ms/step - loss: 9873416781824.0000 - mae: 2959106.2500 - val_loss: 10199057301504.0000 - val_mae: 2967506.2500\n",
            "Epoch 130/300\n",
            "\u001b[1m6/6\u001b[0m \u001b[32m━━━━━━━━━━━━━━━━━━━━\u001b[0m\u001b[37m\u001b[0m \u001b[1m0s\u001b[0m 16ms/step - loss: 9993184083968.0000 - mae: 2964321.7500 - val_loss: 9986099904512.0000 - val_mae: 2928952.2500\n",
            "Epoch 131/300\n",
            "\u001b[1m6/6\u001b[0m \u001b[32m━━━━━━━━━━━━━━━━━━━━\u001b[0m\u001b[37m\u001b[0m \u001b[1m0s\u001b[0m 15ms/step - loss: 9805124075520.0000 - mae: 2942882.7500 - val_loss: 9778003705856.0000 - val_mae: 2890315.0000\n",
            "Epoch 132/300\n",
            "\u001b[1m6/6\u001b[0m \u001b[32m━━━━━━━━━━━━━━━━━━━━\u001b[0m\u001b[37m\u001b[0m \u001b[1m0s\u001b[0m 15ms/step - loss: 9559262363648.0000 - mae: 2881839.2500 - val_loss: 9572759633920.0000 - val_mae: 2851134.2500\n",
            "Epoch 133/300\n",
            "\u001b[1m6/6\u001b[0m \u001b[32m━━━━━━━━━━━━━━━━━━━━\u001b[0m\u001b[37m\u001b[0m \u001b[1m0s\u001b[0m 15ms/step - loss: 9399730962432.0000 - mae: 2863955.2500 - val_loss: 9374991908864.0000 - val_mae: 2812387.0000\n",
            "Epoch 134/300\n",
            "\u001b[1m6/6\u001b[0m \u001b[32m━━━━━━━━━━━━━━━━━━━━\u001b[0m\u001b[37m\u001b[0m \u001b[1m0s\u001b[0m 16ms/step - loss: 9370792361984.0000 - mae: 2852649.2500 - val_loss: 9185105281024.0000 - val_mae: 2774307.7500\n",
            "Epoch 135/300\n",
            "\u001b[1m6/6\u001b[0m \u001b[32m━━━━━━━━━━━━━━━━━━━━\u001b[0m\u001b[37m\u001b[0m \u001b[1m0s\u001b[0m 18ms/step - loss: 8727749984256.0000 - mae: 2757579.0000 - val_loss: 8997012766720.0000 - val_mae: 2735365.7500\n",
            "Epoch 136/300\n",
            "\u001b[1m6/6\u001b[0m \u001b[32m━━━━━━━━━━━━━━━━━━━━\u001b[0m\u001b[37m\u001b[0m \u001b[1m0s\u001b[0m 15ms/step - loss: 8076281774080.0000 - mae: 2628976.5000 - val_loss: 8814982070272.0000 - val_mae: 2696755.0000\n",
            "Epoch 137/300\n",
            "\u001b[1m6/6\u001b[0m \u001b[32m━━━━━━━━━━━━━━━━━━━━\u001b[0m\u001b[37m\u001b[0m \u001b[1m0s\u001b[0m 23ms/step - loss: 8865180549120.0000 - mae: 2742363.7500 - val_loss: 8639427379200.0000 - val_mae: 2658725.0000\n",
            "Epoch 138/300\n",
            "\u001b[1m6/6\u001b[0m \u001b[32m━━━━━━━━━━━━━━━━━━━━\u001b[0m\u001b[37m\u001b[0m \u001b[1m0s\u001b[0m 15ms/step - loss: 8352721010688.0000 - mae: 2675305.0000 - val_loss: 8467984154624.0000 - val_mae: 2621997.7500\n",
            "Epoch 139/300\n",
            "\u001b[1m6/6\u001b[0m \u001b[32m━━━━━━━━━━━━━━━━━━━━\u001b[0m\u001b[37m\u001b[0m \u001b[1m0s\u001b[0m 15ms/step - loss: 8179709116416.0000 - mae: 2615006.0000 - val_loss: 8301968883712.0000 - val_mae: 2585296.2500\n",
            "Epoch 140/300\n",
            "\u001b[1m6/6\u001b[0m \u001b[32m━━━━━━━━━━━━━━━━━━━━\u001b[0m\u001b[37m\u001b[0m \u001b[1m0s\u001b[0m 15ms/step - loss: 7749933989888.0000 - mae: 2568583.7500 - val_loss: 8141219561472.0000 - val_mae: 2549549.5000\n",
            "Epoch 141/300\n",
            "\u001b[1m6/6\u001b[0m \u001b[32m━━━━━━━━━━━━━━━━━━━━\u001b[0m\u001b[37m\u001b[0m \u001b[1m0s\u001b[0m 15ms/step - loss: 7971312500736.0000 - mae: 2587219.5000 - val_loss: 7985359224832.0000 - val_mae: 2516781.5000\n",
            "Epoch 142/300\n",
            "\u001b[1m6/6\u001b[0m \u001b[32m━━━━━━━━━━━━━━━━━━━━\u001b[0m\u001b[37m\u001b[0m \u001b[1m0s\u001b[0m 15ms/step - loss: 7373617364992.0000 - mae: 2493158.5000 - val_loss: 7837115219968.0000 - val_mae: 2484925.5000\n",
            "Epoch 143/300\n",
            "\u001b[1m6/6\u001b[0m \u001b[32m━━━━━━━━━━━━━━━━━━━━\u001b[0m\u001b[37m\u001b[0m \u001b[1m0s\u001b[0m 16ms/step - loss: 7421223763968.0000 - mae: 2502724.7500 - val_loss: 7691018174464.0000 - val_mae: 2452444.2500\n",
            "Epoch 144/300\n",
            "\u001b[1m6/6\u001b[0m \u001b[32m━━━━━━━━━━━━━━━━━━━━\u001b[0m\u001b[37m\u001b[0m \u001b[1m0s\u001b[0m 15ms/step - loss: 7244291768320.0000 - mae: 2455824.2500 - val_loss: 7552483459072.0000 - val_mae: 2420597.0000\n",
            "Epoch 145/300\n",
            "\u001b[1m6/6\u001b[0m \u001b[32m━━━━━━━━━━━━━━━━━━━━\u001b[0m\u001b[37m\u001b[0m \u001b[1m0s\u001b[0m 16ms/step - loss: 7294117478400.0000 - mae: 2462199.5000 - val_loss: 7421810442240.0000 - val_mae: 2389753.5000\n",
            "Epoch 146/300\n",
            "\u001b[1m6/6\u001b[0m \u001b[32m━━━━━━━━━━━━━━━━━━━━\u001b[0m\u001b[37m\u001b[0m \u001b[1m0s\u001b[0m 15ms/step - loss: 6826043113472.0000 - mae: 2385996.5000 - val_loss: 7296228261888.0000 - val_mae: 2362654.2500\n",
            "Epoch 147/300\n",
            "\u001b[1m6/6\u001b[0m \u001b[32m━━━━━━━━━━━━━━━━━━━━\u001b[0m\u001b[37m\u001b[0m \u001b[1m0s\u001b[0m 15ms/step - loss: 6873020891136.0000 - mae: 2383668.7500 - val_loss: 7174010961920.0000 - val_mae: 2335713.7500\n",
            "Epoch 148/300\n",
            "\u001b[1m6/6\u001b[0m \u001b[32m━━━━━━━━━━━━━━━━━━━━\u001b[0m\u001b[37m\u001b[0m \u001b[1m0s\u001b[0m 16ms/step - loss: 6901973123072.0000 - mae: 2386442.7500 - val_loss: 7055374548992.0000 - val_mae: 2310294.7500\n",
            "Epoch 149/300\n",
            "\u001b[1m6/6\u001b[0m \u001b[32m━━━━━━━━━━━━━━━━━━━━\u001b[0m\u001b[37m\u001b[0m \u001b[1m0s\u001b[0m 15ms/step - loss: 6610692866048.0000 - mae: 2361880.0000 - val_loss: 6943710117888.0000 - val_mae: 2289846.0000\n",
            "Epoch 150/300\n",
            "\u001b[1m6/6\u001b[0m \u001b[32m━━━━━━━━━━━━━━━━━━━━\u001b[0m\u001b[37m\u001b[0m \u001b[1m0s\u001b[0m 15ms/step - loss: 6433693761536.0000 - mae: 2280451.0000 - val_loss: 6837485699072.0000 - val_mae: 2269702.5000\n",
            "Epoch 151/300\n",
            "\u001b[1m6/6\u001b[0m \u001b[32m━━━━━━━━━━━━━━━━━━━━\u001b[0m\u001b[37m\u001b[0m \u001b[1m0s\u001b[0m 25ms/step - loss: 6375204192256.0000 - mae: 2311064.0000 - val_loss: 6734439514112.0000 - val_mae: 2249905.7500\n",
            "Epoch 152/300\n",
            "\u001b[1m6/6\u001b[0m \u001b[32m━━━━━━━━━━━━━━━━━━━━\u001b[0m\u001b[37m\u001b[0m \u001b[1m0s\u001b[0m 16ms/step - loss: 6122498949120.0000 - mae: 2252842.5000 - val_loss: 6635543068672.0000 - val_mae: 2231331.5000\n",
            "Epoch 153/300\n",
            "\u001b[1m6/6\u001b[0m \u001b[32m━━━━━━━━━━━━━━━━━━━━\u001b[0m\u001b[37m\u001b[0m \u001b[1m0s\u001b[0m 16ms/step - loss: 5820783263744.0000 - mae: 2186577.2500 - val_loss: 6540765429760.0000 - val_mae: 2213275.7500\n",
            "Epoch 154/300\n",
            "\u001b[1m6/6\u001b[0m \u001b[32m━━━━━━━━━━━━━━━━━━━━\u001b[0m\u001b[37m\u001b[0m \u001b[1m0s\u001b[0m 16ms/step - loss: 6112267468800.0000 - mae: 2215045.5000 - val_loss: 6448108011520.0000 - val_mae: 2196016.2500\n",
            "Epoch 155/300\n",
            "\u001b[1m6/6\u001b[0m \u001b[32m━━━━━━━━━━━━━━━━━━━━\u001b[0m\u001b[37m\u001b[0m \u001b[1m0s\u001b[0m 15ms/step - loss: 5823263145984.0000 - mae: 2165423.2500 - val_loss: 6358299049984.0000 - val_mae: 2181477.0000\n",
            "Epoch 156/300\n",
            "\u001b[1m6/6\u001b[0m \u001b[32m━━━━━━━━━━━━━━━━━━━━\u001b[0m\u001b[37m\u001b[0m \u001b[1m0s\u001b[0m 15ms/step - loss: 5909461336064.0000 - mae: 2184738.0000 - val_loss: 6275647143936.0000 - val_mae: 2168629.7500\n",
            "Epoch 157/300\n",
            "\u001b[1m6/6\u001b[0m \u001b[32m━━━━━━━━━━━━━━━━━━━━\u001b[0m\u001b[37m\u001b[0m \u001b[1m0s\u001b[0m 16ms/step - loss: 5780076494848.0000 - mae: 2156171.7500 - val_loss: 6195696369664.0000 - val_mae: 2155603.2500\n",
            "Epoch 158/300\n",
            "\u001b[1m6/6\u001b[0m \u001b[32m━━━━━━━━━━━━━━━━━━━━\u001b[0m\u001b[37m\u001b[0m \u001b[1m0s\u001b[0m 19ms/step - loss: 5868920242176.0000 - mae: 2186356.5000 - val_loss: 6117269700608.0000 - val_mae: 2142626.2500\n",
            "Epoch 159/300\n",
            "\u001b[1m6/6\u001b[0m \u001b[32m━━━━━━━━━━━━━━━━━━━━\u001b[0m\u001b[37m\u001b[0m \u001b[1m0s\u001b[0m 16ms/step - loss: 5241693011968.0000 - mae: 2055758.1250 - val_loss: 6042089422848.0000 - val_mae: 2129695.7500\n",
            "Epoch 160/300\n",
            "\u001b[1m6/6\u001b[0m \u001b[32m━━━━━━━━━━━━━━━━━━━━\u001b[0m\u001b[37m\u001b[0m \u001b[1m0s\u001b[0m 16ms/step - loss: 5454203715584.0000 - mae: 2078654.1250 - val_loss: 5968605216768.0000 - val_mae: 2116721.0000\n",
            "Epoch 161/300\n",
            "\u001b[1m6/6\u001b[0m \u001b[32m━━━━━━━━━━━━━━━━━━━━\u001b[0m\u001b[37m\u001b[0m \u001b[1m0s\u001b[0m 15ms/step - loss: 5219041673216.0000 - mae: 2036936.7500 - val_loss: 5896641970176.0000 - val_mae: 2104642.5000\n",
            "Epoch 162/300\n",
            "\u001b[1m6/6\u001b[0m \u001b[32m━━━━━━━━━━━━━━━━━━━━\u001b[0m\u001b[37m\u001b[0m \u001b[1m0s\u001b[0m 16ms/step - loss: 5357044236288.0000 - mae: 2058659.1250 - val_loss: 5827938222080.0000 - val_mae: 2092682.8750\n",
            "Epoch 163/300\n",
            "\u001b[1m6/6\u001b[0m \u001b[32m━━━━━━━━━━━━━━━━━━━━\u001b[0m\u001b[37m\u001b[0m \u001b[1m0s\u001b[0m 15ms/step - loss: 5494733799424.0000 - mae: 2061656.7500 - val_loss: 5760447152128.0000 - val_mae: 2080343.6250\n",
            "Epoch 164/300\n",
            "\u001b[1m6/6\u001b[0m \u001b[32m━━━━━━━━━━━━━━━━━━━━\u001b[0m\u001b[37m\u001b[0m \u001b[1m0s\u001b[0m 16ms/step - loss: 4795397046272.0000 - mae: 1957006.5000 - val_loss: 5696241270784.0000 - val_mae: 2068840.7500\n",
            "Epoch 165/300\n",
            "\u001b[1m6/6\u001b[0m \u001b[32m━━━━━━━━━━━━━━━━━━━━\u001b[0m\u001b[37m\u001b[0m \u001b[1m0s\u001b[0m 15ms/step - loss: 5046419324928.0000 - mae: 1962531.3750 - val_loss: 5634850291712.0000 - val_mae: 2058021.1250\n",
            "Epoch 166/300\n",
            "\u001b[1m6/6\u001b[0m \u001b[32m━━━━━━━━━━━━━━━━━━━━\u001b[0m\u001b[37m\u001b[0m \u001b[1m0s\u001b[0m 18ms/step - loss: 4755485097984.0000 - mae: 1941128.0000 - val_loss: 5573589860352.0000 - val_mae: 2046686.1250\n",
            "Epoch 167/300\n",
            "\u001b[1m6/6\u001b[0m \u001b[32m━━━━━━━━━━━━━━━━━━━━\u001b[0m\u001b[37m\u001b[0m \u001b[1m0s\u001b[0m 16ms/step - loss: 5014215983104.0000 - mae: 1987366.2500 - val_loss: 5514467475456.0000 - val_mae: 2035493.8750\n",
            "Epoch 168/300\n",
            "\u001b[1m6/6\u001b[0m \u001b[32m━━━━━━━━━━━━━━━━━━━━\u001b[0m\u001b[37m\u001b[0m \u001b[1m0s\u001b[0m 16ms/step - loss: 5016873598976.0000 - mae: 1987193.2500 - val_loss: 5456664199168.0000 - val_mae: 2024281.8750\n",
            "Epoch 169/300\n",
            "\u001b[1m6/6\u001b[0m \u001b[32m━━━━━━━━━━━━━━━━━━━━\u001b[0m\u001b[37m\u001b[0m \u001b[1m0s\u001b[0m 15ms/step - loss: 4839482327040.0000 - mae: 1967040.6250 - val_loss: 5399563468800.0000 - val_mae: 2012821.2500\n",
            "Epoch 170/300\n",
            "\u001b[1m6/6\u001b[0m \u001b[32m━━━━━━━━━━━━━━━━━━━━\u001b[0m\u001b[37m\u001b[0m \u001b[1m0s\u001b[0m 15ms/step - loss: 4668952412160.0000 - mae: 1916102.7500 - val_loss: 5343119147008.0000 - val_mae: 2001412.0000\n",
            "Epoch 171/300\n",
            "\u001b[1m6/6\u001b[0m \u001b[32m━━━━━━━━━━━━━━━━━━━━\u001b[0m\u001b[37m\u001b[0m \u001b[1m0s\u001b[0m 15ms/step - loss: 4923283996672.0000 - mae: 1939060.2500 - val_loss: 5289568894976.0000 - val_mae: 1989974.0000\n",
            "Epoch 172/300\n",
            "\u001b[1m6/6\u001b[0m \u001b[32m━━━━━━━━━━━━━━━━━━━━\u001b[0m\u001b[37m\u001b[0m \u001b[1m0s\u001b[0m 23ms/step - loss: 4608608960512.0000 - mae: 1857315.3750 - val_loss: 5237734637568.0000 - val_mae: 1978659.5000\n",
            "Epoch 173/300\n",
            "\u001b[1m6/6\u001b[0m \u001b[32m━━━━━━━━━━━━━━━━━━━━\u001b[0m\u001b[37m\u001b[0m \u001b[1m0s\u001b[0m 23ms/step - loss: 4494755627008.0000 - mae: 1879430.8750 - val_loss: 5185227194368.0000 - val_mae: 1967022.5000\n",
            "Epoch 174/300\n",
            "\u001b[1m6/6\u001b[0m \u001b[32m━━━━━━━━━━━━━━━━━━━━\u001b[0m\u001b[37m\u001b[0m \u001b[1m0s\u001b[0m 16ms/step - loss: 4472226447360.0000 - mae: 1844841.8750 - val_loss: 5133722189824.0000 - val_mae: 1955431.5000\n",
            "Epoch 175/300\n",
            "\u001b[1m6/6\u001b[0m \u001b[32m━━━━━━━━━━━━━━━━━━━━\u001b[0m\u001b[37m\u001b[0m \u001b[1m0s\u001b[0m 15ms/step - loss: 4817895292928.0000 - mae: 1913024.7500 - val_loss: 5082697957376.0000 - val_mae: 1943753.1250\n",
            "Epoch 176/300\n",
            "\u001b[1m6/6\u001b[0m \u001b[32m━━━━━━━━━━━━━━━━━━━━\u001b[0m\u001b[37m\u001b[0m \u001b[1m0s\u001b[0m 16ms/step - loss: 4559708094464.0000 - mae: 1871535.8750 - val_loss: 5030625148928.0000 - val_mae: 1931772.0000\n",
            "Epoch 177/300\n",
            "\u001b[1m6/6\u001b[0m \u001b[32m━━━━━━━━━━━━━━━━━━━━\u001b[0m\u001b[37m\u001b[0m \u001b[1m0s\u001b[0m 16ms/step - loss: 4204701941760.0000 - mae: 1776163.5000 - val_loss: 4979083968512.0000 - val_mae: 1919983.6250\n",
            "Epoch 178/300\n",
            "\u001b[1m6/6\u001b[0m \u001b[32m━━━━━━━━━━━━━━━━━━━━\u001b[0m\u001b[37m\u001b[0m \u001b[1m0s\u001b[0m 16ms/step - loss: 4270475444224.0000 - mae: 1789433.8750 - val_loss: 4928988250112.0000 - val_mae: 1908435.2500\n",
            "Epoch 179/300\n",
            "\u001b[1m6/6\u001b[0m \u001b[32m━━━━━━━━━━━━━━━━━━━━\u001b[0m\u001b[37m\u001b[0m \u001b[1m0s\u001b[0m 15ms/step - loss: 4465028497408.0000 - mae: 1846090.6250 - val_loss: 4879401091072.0000 - val_mae: 1896782.3750\n",
            "Epoch 180/300\n",
            "\u001b[1m6/6\u001b[0m \u001b[32m━━━━━━━━━━━━━━━━━━━━\u001b[0m\u001b[37m\u001b[0m \u001b[1m0s\u001b[0m 15ms/step - loss: 4288755531776.0000 - mae: 1823928.1250 - val_loss: 4831080611840.0000 - val_mae: 1885249.8750\n",
            "Epoch 181/300\n",
            "\u001b[1m6/6\u001b[0m \u001b[32m━━━━━━━━━━━━━━━━━━━━\u001b[0m\u001b[37m\u001b[0m \u001b[1m0s\u001b[0m 19ms/step - loss: 4119786684416.0000 - mae: 1784715.1250 - val_loss: 4782917943296.0000 - val_mae: 1873740.8750\n",
            "Epoch 182/300\n",
            "\u001b[1m6/6\u001b[0m \u001b[32m━━━━━━━━━━━━━━━━━━━━\u001b[0m\u001b[37m\u001b[0m \u001b[1m0s\u001b[0m 15ms/step - loss: 4277930033152.0000 - mae: 1802948.1250 - val_loss: 4735568969728.0000 - val_mae: 1862362.3750\n",
            "Epoch 183/300\n",
            "\u001b[1m6/6\u001b[0m \u001b[32m━━━━━━━━━━━━━━━━━━━━\u001b[0m\u001b[37m\u001b[0m \u001b[1m0s\u001b[0m 15ms/step - loss: 3966890409984.0000 - mae: 1742106.2500 - val_loss: 4689485103104.0000 - val_mae: 1851192.5000\n",
            "Epoch 184/300\n",
            "\u001b[1m6/6\u001b[0m \u001b[32m━━━━━━━━━━━━━━━━━━━━\u001b[0m\u001b[37m\u001b[0m \u001b[1m0s\u001b[0m 15ms/step - loss: 3824994484224.0000 - mae: 1705369.1250 - val_loss: 4643463102464.0000 - val_mae: 1839899.5000\n",
            "Epoch 185/300\n",
            "\u001b[1m6/6\u001b[0m \u001b[32m━━━━━━━━━━━━━━━━━━━━\u001b[0m\u001b[37m\u001b[0m \u001b[1m0s\u001b[0m 16ms/step - loss: 3832098324480.0000 - mae: 1675765.6250 - val_loss: 4597649244160.0000 - val_mae: 1828552.0000\n",
            "Epoch 186/300\n",
            "\u001b[1m6/6\u001b[0m \u001b[32m━━━━━━━━━━━━━━━━━━━━\u001b[0m\u001b[37m\u001b[0m \u001b[1m0s\u001b[0m 28ms/step - loss: 4037489721344.0000 - mae: 1708080.3750 - val_loss: 4552369111040.0000 - val_mae: 1817147.1250\n",
            "Epoch 187/300\n",
            "\u001b[1m6/6\u001b[0m \u001b[32m━━━━━━━━━━━━━━━━━━━━\u001b[0m\u001b[37m\u001b[0m \u001b[1m0s\u001b[0m 28ms/step - loss: 3986242928640.0000 - mae: 1717945.1250 - val_loss: 4507454406656.0000 - val_mae: 1805668.7500\n",
            "Epoch 188/300\n",
            "\u001b[1m6/6\u001b[0m \u001b[32m━━━━━━━━━━━━━━━━━━━━\u001b[0m\u001b[37m\u001b[0m \u001b[1m0s\u001b[0m 24ms/step - loss: 3958894231552.0000 - mae: 1714730.8750 - val_loss: 4462123417600.0000 - val_mae: 1794028.3750\n",
            "Epoch 189/300\n",
            "\u001b[1m6/6\u001b[0m \u001b[32m━━━━━━━━━━━━━━━━━━━━\u001b[0m\u001b[37m\u001b[0m \u001b[1m0s\u001b[0m 21ms/step - loss: 3710728798208.0000 - mae: 1678729.6250 - val_loss: 4416444301312.0000 - val_mae: 1782364.7500\n",
            "Epoch 190/300\n",
            "\u001b[1m6/6\u001b[0m \u001b[32m━━━━━━━━━━━━━━━━━━━━\u001b[0m\u001b[37m\u001b[0m \u001b[1m0s\u001b[0m 21ms/step - loss: 3497895657472.0000 - mae: 1625329.6250 - val_loss: 4371666960384.0000 - val_mae: 1770557.6250\n",
            "Epoch 191/300\n",
            "\u001b[1m6/6\u001b[0m \u001b[32m━━━━━━━━━━━━━━━━━━━━\u001b[0m\u001b[37m\u001b[0m \u001b[1m0s\u001b[0m 21ms/step - loss: 3722129702912.0000 - mae: 1620962.2500 - val_loss: 4328056422400.0000 - val_mae: 1758967.6250\n",
            "Epoch 192/300\n",
            "\u001b[1m6/6\u001b[0m \u001b[32m━━━━━━━━━━━━━━━━━━━━\u001b[0m\u001b[37m\u001b[0m \u001b[1m0s\u001b[0m 27ms/step - loss: 4052915585024.0000 - mae: 1730912.0000 - val_loss: 4284712484864.0000 - val_mae: 1747182.5000\n",
            "Epoch 193/300\n",
            "\u001b[1m6/6\u001b[0m \u001b[32m━━━━━━━━━━━━━━━━━━━━\u001b[0m\u001b[37m\u001b[0m \u001b[1m0s\u001b[0m 31ms/step - loss: 4007206846464.0000 - mae: 1714254.7500 - val_loss: 4242609537024.0000 - val_mae: 1735568.8750\n",
            "Epoch 194/300\n",
            "\u001b[1m6/6\u001b[0m \u001b[32m━━━━━━━━━━━━━━━━━━━━\u001b[0m\u001b[37m\u001b[0m \u001b[1m0s\u001b[0m 28ms/step - loss: 3756207374336.0000 - mae: 1668803.1250 - val_loss: 4200814346240.0000 - val_mae: 1723934.1250\n",
            "Epoch 195/300\n",
            "\u001b[1m6/6\u001b[0m \u001b[32m━━━━━━━━━━━━━━━━━━━━\u001b[0m\u001b[37m\u001b[0m \u001b[1m0s\u001b[0m 30ms/step - loss: 3610193428480.0000 - mae: 1615388.6250 - val_loss: 4158387912704.0000 - val_mae: 1712140.8750\n",
            "Epoch 196/300\n",
            "\u001b[1m6/6\u001b[0m \u001b[32m━━━━━━━━━━━━━━━━━━━━\u001b[0m\u001b[37m\u001b[0m \u001b[1m0s\u001b[0m 15ms/step - loss: 3549133799424.0000 - mae: 1578187.2500 - val_loss: 4115558563840.0000 - val_mae: 1700402.5000\n",
            "Epoch 197/300\n",
            "\u001b[1m6/6\u001b[0m \u001b[32m━━━━━━━━━━━━━━━━━━━━\u001b[0m\u001b[37m\u001b[0m \u001b[1m0s\u001b[0m 15ms/step - loss: 3442039586816.0000 - mae: 1593866.5000 - val_loss: 4074286612480.0000 - val_mae: 1689009.1250\n",
            "Epoch 198/300\n",
            "\u001b[1m6/6\u001b[0m \u001b[32m━━━━━━━━━━━━━━━━━━━━\u001b[0m\u001b[37m\u001b[0m \u001b[1m0s\u001b[0m 24ms/step - loss: 3451382136832.0000 - mae: 1563160.6250 - val_loss: 4033485996032.0000 - val_mae: 1677565.8750\n",
            "Epoch 199/300\n",
            "\u001b[1m6/6\u001b[0m \u001b[32m━━━━━━━━━━━━━━━━━━━━\u001b[0m\u001b[37m\u001b[0m \u001b[1m0s\u001b[0m 15ms/step - loss: 3244742148096.0000 - mae: 1509948.0000 - val_loss: 3992621940736.0000 - val_mae: 1665974.0000\n",
            "Epoch 200/300\n",
            "\u001b[1m6/6\u001b[0m \u001b[32m━━━━━━━━━━━━━━━━━━━━\u001b[0m\u001b[37m\u001b[0m \u001b[1m0s\u001b[0m 15ms/step - loss: 3341992853504.0000 - mae: 1518376.6250 - val_loss: 3953496162304.0000 - val_mae: 1654656.0000\n",
            "Epoch 201/300\n",
            "\u001b[1m6/6\u001b[0m \u001b[32m━━━━━━━━━━━━━━━━━━━━\u001b[0m\u001b[37m\u001b[0m \u001b[1m0s\u001b[0m 16ms/step - loss: 3399737933824.0000 - mae: 1563291.1250 - val_loss: 3912894513152.0000 - val_mae: 1643197.6250\n",
            "Epoch 202/300\n",
            "\u001b[1m6/6\u001b[0m \u001b[32m━━━━━━━━━━━━━━━━━━━━\u001b[0m\u001b[37m\u001b[0m \u001b[1m0s\u001b[0m 16ms/step - loss: 3303591116800.0000 - mae: 1550050.7500 - val_loss: 3874340470784.0000 - val_mae: 1632351.1250\n",
            "Epoch 203/300\n",
            "\u001b[1m6/6\u001b[0m \u001b[32m━━━━━━━━━━━━━━━━━━━━\u001b[0m\u001b[37m\u001b[0m \u001b[1m0s\u001b[0m 15ms/step - loss: 3276760416256.0000 - mae: 1480956.8750 - val_loss: 3835837808640.0000 - val_mae: 1621447.2500\n",
            "Epoch 204/300\n",
            "\u001b[1m6/6\u001b[0m \u001b[32m━━━━━━━━━━━━━━━━━━━━\u001b[0m\u001b[37m\u001b[0m \u001b[1m0s\u001b[0m 15ms/step - loss: 3125127151616.0000 - mae: 1489437.0000 - val_loss: 3798064168960.0000 - val_mae: 1610492.3750\n",
            "Epoch 205/300\n",
            "\u001b[1m6/6\u001b[0m \u001b[32m━━━━━━━━━━━━━━━━━━━━\u001b[0m\u001b[37m\u001b[0m \u001b[1m0s\u001b[0m 15ms/step - loss: 3492573347840.0000 - mae: 1571117.8750 - val_loss: 3757486374912.0000 - val_mae: 1598829.8750\n",
            "Epoch 206/300\n",
            "\u001b[1m6/6\u001b[0m \u001b[32m━━━━━━━━━━━━━━━━━━━━\u001b[0m\u001b[37m\u001b[0m \u001b[1m0s\u001b[0m 24ms/step - loss: 2944437846016.0000 - mae: 1449760.8750 - val_loss: 3718506610688.0000 - val_mae: 1587472.1250\n",
            "Epoch 207/300\n",
            "\u001b[1m6/6\u001b[0m \u001b[32m━━━━━━━━━━━━━━━━━━━━\u001b[0m\u001b[37m\u001b[0m \u001b[1m0s\u001b[0m 15ms/step - loss: 2981637914624.0000 - mae: 1443948.1250 - val_loss: 3680789594112.0000 - val_mae: 1576455.8750\n",
            "Epoch 208/300\n",
            "\u001b[1m6/6\u001b[0m \u001b[32m━━━━━━━━━━━━━━━━━━━━\u001b[0m\u001b[37m\u001b[0m \u001b[1m0s\u001b[0m 15ms/step - loss: 2970001080320.0000 - mae: 1443112.6250 - val_loss: 3645026336768.0000 - val_mae: 1566061.8750\n",
            "Epoch 209/300\n",
            "\u001b[1m6/6\u001b[0m \u001b[32m━━━━━━━━━━━━━━━━━━━━\u001b[0m\u001b[37m\u001b[0m \u001b[1m0s\u001b[0m 14ms/step - loss: 3125387984896.0000 - mae: 1481189.7500 - val_loss: 3607658233856.0000 - val_mae: 1555219.2500\n",
            "Epoch 210/300\n",
            "\u001b[1m6/6\u001b[0m \u001b[32m━━━━━━━━━━━━━━━━━━━━\u001b[0m\u001b[37m\u001b[0m \u001b[1m0s\u001b[0m 15ms/step - loss: 3066109624320.0000 - mae: 1432392.3750 - val_loss: 3572022640640.0000 - val_mae: 1544620.7500\n",
            "Epoch 211/300\n",
            "\u001b[1m6/6\u001b[0m \u001b[32m━━━━━━━━━━━━━━━━━━━━\u001b[0m\u001b[37m\u001b[0m \u001b[1m0s\u001b[0m 16ms/step - loss: 3143701364736.0000 - mae: 1454625.7500 - val_loss: 3536360046592.0000 - val_mae: 1533903.5000\n",
            "Epoch 212/300\n",
            "\u001b[1m6/6\u001b[0m \u001b[32m━━━━━━━━━━━━━━━━━━━━\u001b[0m\u001b[37m\u001b[0m \u001b[1m0s\u001b[0m 15ms/step - loss: 2665107423232.0000 - mae: 1349936.0000 - val_loss: 3502243053568.0000 - val_mae: 1523437.8750\n",
            "Epoch 213/300\n",
            "\u001b[1m6/6\u001b[0m \u001b[32m━━━━━━━━━━━━━━━━━━━━\u001b[0m\u001b[37m\u001b[0m \u001b[1m0s\u001b[0m 15ms/step - loss: 3068446113792.0000 - mae: 1454103.7500 - val_loss: 3466255925248.0000 - val_mae: 1512442.0000\n",
            "Epoch 214/300\n",
            "\u001b[1m6/6\u001b[0m \u001b[32m━━━━━━━━━━━━━━━━━━━━\u001b[0m\u001b[37m\u001b[0m \u001b[1m0s\u001b[0m 18ms/step - loss: 2780229009408.0000 - mae: 1378290.8750 - val_loss: 3432484175872.0000 - val_mae: 1501927.1250\n",
            "Epoch 215/300\n",
            "\u001b[1m6/6\u001b[0m \u001b[32m━━━━━━━━━━━━━━━━━━━━\u001b[0m\u001b[37m\u001b[0m \u001b[1m0s\u001b[0m 16ms/step - loss: 2708415184896.0000 - mae: 1340136.1250 - val_loss: 3398764331008.0000 - val_mae: 1491353.5000\n",
            "Epoch 216/300\n",
            "\u001b[1m6/6\u001b[0m \u001b[32m━━━━━━━━━━━━━━━━━━━━\u001b[0m\u001b[37m\u001b[0m \u001b[1m0s\u001b[0m 15ms/step - loss: 2851490496512.0000 - mae: 1375959.3750 - val_loss: 3365724225536.0000 - val_mae: 1480852.1250\n",
            "Epoch 217/300\n",
            "\u001b[1m6/6\u001b[0m \u001b[32m━━━━━━━━━━━━━━━━━━━━\u001b[0m\u001b[37m\u001b[0m \u001b[1m0s\u001b[0m 15ms/step - loss: 2817751252992.0000 - mae: 1373271.6250 - val_loss: 3333612896256.0000 - val_mae: 1470472.3750\n",
            "Epoch 218/300\n",
            "\u001b[1m6/6\u001b[0m \u001b[32m━━━━━━━━━━━━━━━━━━━━\u001b[0m\u001b[37m\u001b[0m \u001b[1m0s\u001b[0m 16ms/step - loss: 2831520628736.0000 - mae: 1379256.0000 - val_loss: 3299826991104.0000 - val_mae: 1459745.7500\n",
            "Epoch 219/300\n",
            "\u001b[1m6/6\u001b[0m \u001b[32m━━━━━━━━━━━━━━━━━━━━\u001b[0m\u001b[37m\u001b[0m \u001b[1m0s\u001b[0m 16ms/step - loss: 2850067578880.0000 - mae: 1379332.1250 - val_loss: 3266146205696.0000 - val_mae: 1448981.3750\n",
            "Epoch 220/300\n",
            "\u001b[1m6/6\u001b[0m \u001b[32m━━━━━━━━━━━━━━━━━━━━\u001b[0m\u001b[37m\u001b[0m \u001b[1m0s\u001b[0m 17ms/step - loss: 2938810662912.0000 - mae: 1401153.1250 - val_loss: 3232263307264.0000 - val_mae: 1438129.1250\n",
            "Epoch 221/300\n",
            "\u001b[1m6/6\u001b[0m \u001b[32m━━━━━━━━━━━━━━━━━━━━\u001b[0m\u001b[37m\u001b[0m \u001b[1m0s\u001b[0m 16ms/step - loss: 2636468191232.0000 - mae: 1318146.2500 - val_loss: 3200688586752.0000 - val_mae: 1427929.7500\n",
            "Epoch 222/300\n",
            "\u001b[1m6/6\u001b[0m \u001b[32m━━━━━━━━━━━━━━━━━━━━\u001b[0m\u001b[37m\u001b[0m \u001b[1m0s\u001b[0m 18ms/step - loss: 2824347320320.0000 - mae: 1376762.0000 - val_loss: 3169740128256.0000 - val_mae: 1417987.0000\n",
            "Epoch 223/300\n",
            "\u001b[1m6/6\u001b[0m \u001b[32m━━━━━━━━━━━━━━━━━━━━\u001b[0m\u001b[37m\u001b[0m \u001b[1m0s\u001b[0m 16ms/step - loss: 2515448889344.0000 - mae: 1301924.3750 - val_loss: 3139505487872.0000 - val_mae: 1408196.5000\n",
            "Epoch 224/300\n",
            "\u001b[1m6/6\u001b[0m \u001b[32m━━━━━━━━━━━━━━━━━━━━\u001b[0m\u001b[37m\u001b[0m \u001b[1m0s\u001b[0m 16ms/step - loss: 2648123899904.0000 - mae: 1309367.0000 - val_loss: 3109480562688.0000 - val_mae: 1398419.5000\n",
            "Epoch 225/300\n",
            "\u001b[1m6/6\u001b[0m \u001b[32m━━━━━━━━━━━━━━━━━━━━\u001b[0m\u001b[37m\u001b[0m \u001b[1m0s\u001b[0m 15ms/step - loss: 2788775690240.0000 - mae: 1341321.5000 - val_loss: 3080727035904.0000 - val_mae: 1388817.2500\n",
            "Epoch 226/300\n",
            "\u001b[1m6/6\u001b[0m \u001b[32m━━━━━━━━━━━━━━━━━━━━\u001b[0m\u001b[37m\u001b[0m \u001b[1m0s\u001b[0m 17ms/step - loss: 2662604472320.0000 - mae: 1316899.3750 - val_loss: 3052777242624.0000 - val_mae: 1379293.2500\n",
            "Epoch 227/300\n",
            "\u001b[1m6/6\u001b[0m \u001b[32m━━━━━━━━━━━━━━━━━━━━\u001b[0m\u001b[37m\u001b[0m \u001b[1m0s\u001b[0m 17ms/step - loss: 2455733272576.0000 - mae: 1257294.2500 - val_loss: 3025861607424.0000 - val_mae: 1369827.1250\n",
            "Epoch 228/300\n",
            "\u001b[1m6/6\u001b[0m \u001b[32m━━━━━━━━━━━━━━━━━━━━\u001b[0m\u001b[37m\u001b[0m \u001b[1m0s\u001b[0m 24ms/step - loss: 2422142140416.0000 - mae: 1265992.5000 - val_loss: 2996793507840.0000 - val_mae: 1359885.5000\n",
            "Epoch 229/300\n",
            "\u001b[1m6/6\u001b[0m \u001b[32m━━━━━━━━━━━━━━━━━━━━\u001b[0m\u001b[37m\u001b[0m \u001b[1m0s\u001b[0m 16ms/step - loss: 2587778351104.0000 - mae: 1306960.1250 - val_loss: 2966278635520.0000 - val_mae: 1349683.1250\n",
            "Epoch 230/300\n",
            "\u001b[1m6/6\u001b[0m \u001b[32m━━━━━━━━━━━━━━━━━━━━\u001b[0m\u001b[37m\u001b[0m \u001b[1m0s\u001b[0m 16ms/step - loss: 2408599781376.0000 - mae: 1223683.2500 - val_loss: 2939142799360.0000 - val_mae: 1340036.1250\n",
            "Epoch 231/300\n",
            "\u001b[1m6/6\u001b[0m \u001b[32m━━━━━━━━━━━━━━━━━━━━\u001b[0m\u001b[37m\u001b[0m \u001b[1m0s\u001b[0m 24ms/step - loss: 2549712158720.0000 - mae: 1293367.2500 - val_loss: 2912328613888.0000 - val_mae: 1330454.3750\n",
            "Epoch 232/300\n",
            "\u001b[1m6/6\u001b[0m \u001b[32m━━━━━━━━━━━━━━━━━━━━\u001b[0m\u001b[37m\u001b[0m \u001b[1m0s\u001b[0m 17ms/step - loss: 2330629767168.0000 - mae: 1246492.5000 - val_loss: 2886380027904.0000 - val_mae: 1321147.8750\n",
            "Epoch 233/300\n",
            "\u001b[1m6/6\u001b[0m \u001b[32m━━━━━━━━━━━━━━━━━━━━\u001b[0m\u001b[37m\u001b[0m \u001b[1m0s\u001b[0m 16ms/step - loss: 2359762616320.0000 - mae: 1231268.7500 - val_loss: 2860347817984.0000 - val_mae: 1311764.5000\n",
            "Epoch 234/300\n",
            "\u001b[1m6/6\u001b[0m \u001b[32m━━━━━━━━━━━━━━━━━━━━\u001b[0m\u001b[37m\u001b[0m \u001b[1m0s\u001b[0m 18ms/step - loss: 2487595565056.0000 - mae: 1227733.5000 - val_loss: 2834493603840.0000 - val_mae: 1302368.5000\n",
            "Epoch 235/300\n",
            "\u001b[1m6/6\u001b[0m \u001b[32m━━━━━━━━━━━━━━━━━━━━\u001b[0m\u001b[37m\u001b[0m \u001b[1m0s\u001b[0m 16ms/step - loss: 2273520386048.0000 - mae: 1195568.3750 - val_loss: 2809766346752.0000 - val_mae: 1293690.8750\n",
            "Epoch 236/300\n",
            "\u001b[1m6/6\u001b[0m \u001b[32m━━━━━━━━━━━━━━━━━━━━\u001b[0m\u001b[37m\u001b[0m \u001b[1m0s\u001b[0m 17ms/step - loss: 2575146942464.0000 - mae: 1275266.0000 - val_loss: 2784940785664.0000 - val_mae: 1284782.1250\n",
            "Epoch 237/300\n",
            "\u001b[1m6/6\u001b[0m \u001b[32m━━━━━━━━━━━━━━━━━━━━\u001b[0m\u001b[37m\u001b[0m \u001b[1m0s\u001b[0m 17ms/step - loss: 2189913751552.0000 - mae: 1188229.2500 - val_loss: 2762146840576.0000 - val_mae: 1276598.6250\n",
            "Epoch 238/300\n",
            "\u001b[1m6/6\u001b[0m \u001b[32m━━━━━━━━━━━━━━━━━━━━\u001b[0m\u001b[37m\u001b[0m \u001b[1m0s\u001b[0m 16ms/step - loss: 2259975405568.0000 - mae: 1222858.6250 - val_loss: 2740061208576.0000 - val_mae: 1268773.8750\n",
            "Epoch 239/300\n",
            "\u001b[1m6/6\u001b[0m \u001b[32m━━━━━━━━━━━━━━━━━━━━\u001b[0m\u001b[37m\u001b[0m \u001b[1m0s\u001b[0m 25ms/step - loss: 2248891695104.0000 - mae: 1193212.7500 - val_loss: 2717987110912.0000 - val_mae: 1260900.8750\n",
            "Epoch 240/300\n",
            "\u001b[1m6/6\u001b[0m \u001b[32m━━━━━━━━━━━━━━━━━━━━\u001b[0m\u001b[37m\u001b[0m \u001b[1m0s\u001b[0m 16ms/step - loss: 2226691768320.0000 - mae: 1178187.0000 - val_loss: 2695045840896.0000 - val_mae: 1252826.2500\n",
            "Epoch 241/300\n",
            "\u001b[1m6/6\u001b[0m \u001b[32m━━━━━━━━━━━━━━━━━━━━\u001b[0m\u001b[37m\u001b[0m \u001b[1m0s\u001b[0m 24ms/step - loss: 2309309071360.0000 - mae: 1207471.8750 - val_loss: 2673593024512.0000 - val_mae: 1245215.8750\n",
            "Epoch 242/300\n",
            "\u001b[1m6/6\u001b[0m \u001b[32m━━━━━━━━━━━━━━━━━━━━\u001b[0m\u001b[37m\u001b[0m \u001b[1m0s\u001b[0m 16ms/step - loss: 2223898099712.0000 - mae: 1198971.7500 - val_loss: 2651976892416.0000 - val_mae: 1237780.1250\n",
            "Epoch 243/300\n",
            "\u001b[1m6/6\u001b[0m \u001b[32m━━━━━━━━━━━━━━━━━━━━\u001b[0m\u001b[37m\u001b[0m \u001b[1m0s\u001b[0m 17ms/step - loss: 2046529765376.0000 - mae: 1143511.7500 - val_loss: 2631837417472.0000 - val_mae: 1231075.8750\n",
            "Epoch 244/300\n",
            "\u001b[1m6/6\u001b[0m \u001b[32m━━━━━━━━━━━━━━━━━━━━\u001b[0m\u001b[37m\u001b[0m \u001b[1m0s\u001b[0m 16ms/step - loss: 2069725970432.0000 - mae: 1148057.0000 - val_loss: 2612807073792.0000 - val_mae: 1224958.0000\n",
            "Epoch 245/300\n",
            "\u001b[1m6/6\u001b[0m \u001b[32m━━━━━━━━━━━━━━━━━━━━\u001b[0m\u001b[37m\u001b[0m \u001b[1m0s\u001b[0m 19ms/step - loss: 2398759419904.0000 - mae: 1206720.3750 - val_loss: 2592404144128.0000 - val_mae: 1218611.1250\n",
            "Epoch 246/300\n",
            "\u001b[1m6/6\u001b[0m \u001b[32m━━━━━━━━━━━━━━━━━━━━\u001b[0m\u001b[37m\u001b[0m \u001b[1m0s\u001b[0m 17ms/step - loss: 2041335382016.0000 - mae: 1133892.0000 - val_loss: 2572495618048.0000 - val_mae: 1212685.1250\n",
            "Epoch 247/300\n",
            "\u001b[1m6/6\u001b[0m \u001b[32m━━━━━━━━━━━━━━━━━━━━\u001b[0m\u001b[37m\u001b[0m \u001b[1m0s\u001b[0m 16ms/step - loss: 2254090272768.0000 - mae: 1191230.3750 - val_loss: 2553381388288.0000 - val_mae: 1206944.5000\n",
            "Epoch 248/300\n",
            "\u001b[1m6/6\u001b[0m \u001b[32m━━━━━━━━━━━━━━━━━━━━\u001b[0m\u001b[37m\u001b[0m \u001b[1m0s\u001b[0m 16ms/step - loss: 1918450270208.0000 - mae: 1091658.7500 - val_loss: 2535107067904.0000 - val_mae: 1201397.5000\n",
            "Epoch 249/300\n",
            "\u001b[1m6/6\u001b[0m \u001b[32m━━━━━━━━━━━━━━━━━━━━\u001b[0m\u001b[37m\u001b[0m \u001b[1m0s\u001b[0m 16ms/step - loss: 2003957448704.0000 - mae: 1103769.3750 - val_loss: 2517159378944.0000 - val_mae: 1196163.8750\n",
            "Epoch 250/300\n",
            "\u001b[1m6/6\u001b[0m \u001b[32m━━━━━━━━━━━━━━━━━━━━\u001b[0m\u001b[37m\u001b[0m \u001b[1m0s\u001b[0m 15ms/step - loss: 2219224858624.0000 - mae: 1147028.7500 - val_loss: 2499551952896.0000 - val_mae: 1191145.2500\n",
            "Epoch 251/300\n",
            "\u001b[1m6/6\u001b[0m \u001b[32m━━━━━━━━━━━━━━━━━━━━\u001b[0m\u001b[37m\u001b[0m \u001b[1m0s\u001b[0m 16ms/step - loss: 2155841454080.0000 - mae: 1135069.7500 - val_loss: 2481393762304.0000 - val_mae: 1185914.1250\n",
            "Epoch 252/300\n",
            "\u001b[1m6/6\u001b[0m \u001b[32m━━━━━━━━━━━━━━━━━━━━\u001b[0m\u001b[37m\u001b[0m \u001b[1m0s\u001b[0m 17ms/step - loss: 2071338811392.0000 - mae: 1153005.1250 - val_loss: 2463329943552.0000 - val_mae: 1180826.8750\n",
            "Epoch 253/300\n",
            "\u001b[1m6/6\u001b[0m \u001b[32m━━━━━━━━━━━━━━━━━━━━\u001b[0m\u001b[37m\u001b[0m \u001b[1m0s\u001b[0m 19ms/step - loss: 1888146423808.0000 - mae: 1093675.0000 - val_loss: 2444900433920.0000 - val_mae: 1175506.6250\n",
            "Epoch 254/300\n",
            "\u001b[1m6/6\u001b[0m \u001b[32m━━━━━━━━━━━━━━━━━━━━\u001b[0m\u001b[37m\u001b[0m \u001b[1m0s\u001b[0m 16ms/step - loss: 2194596560896.0000 - mae: 1132379.2500 - val_loss: 2427088273408.0000 - val_mae: 1170494.5000\n",
            "Epoch 255/300\n",
            "\u001b[1m6/6\u001b[0m \u001b[32m━━━━━━━━━━━━━━━━━━━━\u001b[0m\u001b[37m\u001b[0m \u001b[1m0s\u001b[0m 16ms/step - loss: 2244101537792.0000 - mae: 1169260.2500 - val_loss: 2408490729472.0000 - val_mae: 1165543.8750\n",
            "Epoch 256/300\n",
            "\u001b[1m6/6\u001b[0m \u001b[32m━━━━━━━━━━━━━━━━━━━━\u001b[0m\u001b[37m\u001b[0m \u001b[1m0s\u001b[0m 16ms/step - loss: 2075832090624.0000 - mae: 1117915.7500 - val_loss: 2390402007040.0000 - val_mae: 1160823.3750\n",
            "Epoch 257/300\n",
            "\u001b[1m6/6\u001b[0m \u001b[32m━━━━━━━━━━━━━━━━━━━━\u001b[0m\u001b[37m\u001b[0m \u001b[1m0s\u001b[0m 17ms/step - loss: 1855985942528.0000 - mae: 1097978.7500 - val_loss: 2374186041344.0000 - val_mae: 1156674.5000\n",
            "Epoch 258/300\n",
            "\u001b[1m6/6\u001b[0m \u001b[32m━━━━━━━━━━━━━━━━━━━━\u001b[0m\u001b[37m\u001b[0m \u001b[1m0s\u001b[0m 17ms/step - loss: 1762950905856.0000 - mae: 1056351.1250 - val_loss: 2358988242944.0000 - val_mae: 1152668.0000\n",
            "Epoch 259/300\n",
            "\u001b[1m6/6\u001b[0m \u001b[32m━━━━━━━━━━━━━━━━━━━━\u001b[0m\u001b[37m\u001b[0m \u001b[1m0s\u001b[0m 17ms/step - loss: 1697460387840.0000 - mae: 1025170.6875 - val_loss: 2342971768832.0000 - val_mae: 1148459.5000\n",
            "Epoch 260/300\n",
            "\u001b[1m6/6\u001b[0m \u001b[32m━━━━━━━━━━━━━━━━━━━━\u001b[0m\u001b[37m\u001b[0m \u001b[1m0s\u001b[0m 23ms/step - loss: 1754594672640.0000 - mae: 1050392.2500 - val_loss: 2326541631488.0000 - val_mae: 1143848.8750\n",
            "Epoch 261/300\n",
            "\u001b[1m6/6\u001b[0m \u001b[32m━━━━━━━━━━━━━━━━━━━━\u001b[0m\u001b[37m\u001b[0m \u001b[1m0s\u001b[0m 16ms/step - loss: 1974378037248.0000 - mae: 1088699.2500 - val_loss: 2310490816512.0000 - val_mae: 1139762.5000\n",
            "Epoch 262/300\n",
            "\u001b[1m6/6\u001b[0m \u001b[32m━━━━━━━━━━━━━━━━━━━━\u001b[0m\u001b[37m\u001b[0m \u001b[1m0s\u001b[0m 16ms/step - loss: 1846453469184.0000 - mae: 1041259.8125 - val_loss: 2295677583360.0000 - val_mae: 1136309.3750\n",
            "Epoch 263/300\n",
            "\u001b[1m6/6\u001b[0m \u001b[32m━━━━━━━━━━━━━━━━━━━━\u001b[0m\u001b[37m\u001b[0m \u001b[1m0s\u001b[0m 18ms/step - loss: 2089849847808.0000 - mae: 1081512.8750 - val_loss: 2280927526912.0000 - val_mae: 1132733.5000\n",
            "Epoch 264/300\n",
            "\u001b[1m6/6\u001b[0m \u001b[32m━━━━━━━━━━━━━━━━━━━━\u001b[0m\u001b[37m\u001b[0m \u001b[1m0s\u001b[0m 16ms/step - loss: 1859151724544.0000 - mae: 1056451.6250 - val_loss: 2267417411584.0000 - val_mae: 1129510.7500\n",
            "Epoch 265/300\n",
            "\u001b[1m6/6\u001b[0m \u001b[32m━━━━━━━━━━━━━━━━━━━━\u001b[0m\u001b[37m\u001b[0m \u001b[1m0s\u001b[0m 16ms/step - loss: 1823155421184.0000 - mae: 1068078.6250 - val_loss: 2255877046272.0000 - val_mae: 1127030.0000\n",
            "Epoch 266/300\n",
            "\u001b[1m6/6\u001b[0m \u001b[32m━━━━━━━━━━━━━━━━━━━━\u001b[0m\u001b[37m\u001b[0m \u001b[1m0s\u001b[0m 16ms/step - loss: 1932963217408.0000 - mae: 1086348.7500 - val_loss: 2242739961856.0000 - val_mae: 1124249.1250\n",
            "Epoch 267/300\n",
            "\u001b[1m6/6\u001b[0m \u001b[32m━━━━━━━━━━━━━━━━━━━━\u001b[0m\u001b[37m\u001b[0m \u001b[1m0s\u001b[0m 28ms/step - loss: 1946996178944.0000 - mae: 1079296.7500 - val_loss: 2230725640192.0000 - val_mae: 1121541.1250\n",
            "Epoch 268/300\n",
            "\u001b[1m6/6\u001b[0m \u001b[32m━━━━━━━━━━━━━━━━━━━━\u001b[0m\u001b[37m\u001b[0m \u001b[1m0s\u001b[0m 28ms/step - loss: 1803952062464.0000 - mae: 1054913.5000 - val_loss: 2218757455872.0000 - val_mae: 1118884.5000\n",
            "Epoch 269/300\n",
            "\u001b[1m6/6\u001b[0m \u001b[32m━━━━━━━━━━━━━━━━━━━━\u001b[0m\u001b[37m\u001b[0m \u001b[1m0s\u001b[0m 31ms/step - loss: 1825011007488.0000 - mae: 1051911.3750 - val_loss: 2206057103360.0000 - val_mae: 1116085.0000\n",
            "Epoch 270/300\n",
            "\u001b[1m6/6\u001b[0m \u001b[32m━━━━━━━━━━━━━━━━━━━━\u001b[0m\u001b[37m\u001b[0m \u001b[1m0s\u001b[0m 27ms/step - loss: 1806627635200.0000 - mae: 1063740.1250 - val_loss: 2195077988352.0000 - val_mae: 1113954.8750\n",
            "Epoch 271/300\n",
            "\u001b[1m6/6\u001b[0m \u001b[32m━━━━━━━━━━━━━━━━━━━━\u001b[0m\u001b[37m\u001b[0m \u001b[1m0s\u001b[0m 29ms/step - loss: 1863646314496.0000 - mae: 1032612.9375 - val_loss: 2184695119872.0000 - val_mae: 1111754.0000\n",
            "Epoch 272/300\n",
            "\u001b[1m6/6\u001b[0m \u001b[32m━━━━━━━━━━━━━━━━━━━━\u001b[0m\u001b[37m\u001b[0m \u001b[1m0s\u001b[0m 30ms/step - loss: 1616967106560.0000 - mae: 985363.5000 - val_loss: 2174654349312.0000 - val_mae: 1109621.6250\n",
            "Epoch 273/300\n",
            "\u001b[1m6/6\u001b[0m \u001b[32m━━━━━━━━━━━━━━━━━━━━\u001b[0m\u001b[37m\u001b[0m \u001b[1m0s\u001b[0m 31ms/step - loss: 1888270548992.0000 - mae: 1068260.5000 - val_loss: 2164600209408.0000 - val_mae: 1107396.8750\n",
            "Epoch 274/300\n",
            "\u001b[1m6/6\u001b[0m \u001b[32m━━━━━━━━━━━━━━━━━━━━\u001b[0m\u001b[37m\u001b[0m \u001b[1m0s\u001b[0m 30ms/step - loss: 1784787501056.0000 - mae: 1028120.3125 - val_loss: 2154688282624.0000 - val_mae: 1105078.6250\n",
            "Epoch 275/300\n",
            "\u001b[1m6/6\u001b[0m \u001b[32m━━━━━━━━━━━━━━━━━━━━\u001b[0m\u001b[37m\u001b[0m \u001b[1m0s\u001b[0m 31ms/step - loss: 1771001479168.0000 - mae: 1036429.1250 - val_loss: 2142611177472.0000 - val_mae: 1101820.3750\n",
            "Epoch 276/300\n",
            "\u001b[1m6/6\u001b[0m \u001b[32m━━━━━━━━━━━━━━━━━━━━\u001b[0m\u001b[37m\u001b[0m \u001b[1m0s\u001b[0m 30ms/step - loss: 1776293642240.0000 - mae: 1038712.5000 - val_loss: 2130026168320.0000 - val_mae: 1098371.8750\n",
            "Epoch 277/300\n",
            "\u001b[1m6/6\u001b[0m \u001b[32m━━━━━━━━━━━━━━━━━━━━\u001b[0m\u001b[37m\u001b[0m \u001b[1m0s\u001b[0m 16ms/step - loss: 1918888312832.0000 - mae: 1052593.5000 - val_loss: 2117120294912.0000 - val_mae: 1094644.1250\n",
            "Epoch 278/300\n",
            "\u001b[1m6/6\u001b[0m \u001b[32m━━━━━━━━━━━━━━━━━━━━\u001b[0m\u001b[37m\u001b[0m \u001b[1m0s\u001b[0m 16ms/step - loss: 1725192339456.0000 - mae: 1018340.8125 - val_loss: 2105806422016.0000 - val_mae: 1091398.6250\n",
            "Epoch 279/300\n",
            "\u001b[1m6/6\u001b[0m \u001b[32m━━━━━━━━━━━━━━━━━━━━\u001b[0m\u001b[37m\u001b[0m \u001b[1m0s\u001b[0m 16ms/step - loss: 1563228504064.0000 - mae: 982989.1875 - val_loss: 2095357624320.0000 - val_mae: 1088773.3750\n",
            "Epoch 280/300\n",
            "\u001b[1m6/6\u001b[0m \u001b[32m━━━━━━━━━━━━━━━━━━━━\u001b[0m\u001b[37m\u001b[0m \u001b[1m0s\u001b[0m 16ms/step - loss: 1647732719616.0000 - mae: 983144.6250 - val_loss: 2086102499328.0000 - val_mae: 1086708.8750\n",
            "Epoch 281/300\n",
            "\u001b[1m6/6\u001b[0m \u001b[32m━━━━━━━━━━━━━━━━━━━━\u001b[0m\u001b[37m\u001b[0m \u001b[1m0s\u001b[0m 16ms/step - loss: 1844378730496.0000 - mae: 1055243.7500 - val_loss: 2076702670848.0000 - val_mae: 1084542.7500\n",
            "Epoch 282/300\n",
            "\u001b[1m6/6\u001b[0m \u001b[32m━━━━━━━━━━━━━━━━━━━━\u001b[0m\u001b[37m\u001b[0m \u001b[1m0s\u001b[0m 16ms/step - loss: 1687704961024.0000 - mae: 976654.8125 - val_loss: 2067336658944.0000 - val_mae: 1082384.8750\n",
            "Epoch 283/300\n",
            "\u001b[1m6/6\u001b[0m \u001b[32m━━━━━━━━━━━━━━━━━━━━\u001b[0m\u001b[37m\u001b[0m \u001b[1m0s\u001b[0m 16ms/step - loss: 1654157606912.0000 - mae: 983330.1875 - val_loss: 2058429267968.0000 - val_mae: 1080278.8750\n",
            "Epoch 284/300\n",
            "\u001b[1m6/6\u001b[0m \u001b[32m━━━━━━━━━━━━━━━━━━━━\u001b[0m\u001b[37m\u001b[0m \u001b[1m0s\u001b[0m 16ms/step - loss: 1830813827072.0000 - mae: 1049760.0000 - val_loss: 2048553517056.0000 - val_mae: 1077772.5000\n",
            "Epoch 285/300\n",
            "\u001b[1m6/6\u001b[0m \u001b[32m━━━━━━━━━━━━━━━━━━━━\u001b[0m\u001b[37m\u001b[0m \u001b[1m0s\u001b[0m 17ms/step - loss: 1518785396736.0000 - mae: 955046.5000 - val_loss: 2040292311040.0000 - val_mae: 1075765.1250\n",
            "Epoch 286/300\n",
            "\u001b[1m6/6\u001b[0m \u001b[32m━━━━━━━━━━━━━━━━━━━━\u001b[0m\u001b[37m\u001b[0m \u001b[1m0s\u001b[0m 16ms/step - loss: 1485957496832.0000 - mae: 933836.8125 - val_loss: 2031516909568.0000 - val_mae: 1073442.5000\n",
            "Epoch 287/300\n",
            "\u001b[1m6/6\u001b[0m \u001b[32m━━━━━━━━━━━━━━━━━━━━\u001b[0m\u001b[37m\u001b[0m \u001b[1m0s\u001b[0m 16ms/step - loss: 1547539709952.0000 - mae: 961606.2500 - val_loss: 2022095716352.0000 - val_mae: 1070825.8750\n",
            "Epoch 288/300\n",
            "\u001b[1m6/6\u001b[0m \u001b[32m━━━━━━━━━━━━━━━━━━━━\u001b[0m\u001b[37m\u001b[0m \u001b[1m0s\u001b[0m 16ms/step - loss: 1629904699392.0000 - mae: 990473.1250 - val_loss: 2012735471616.0000 - val_mae: 1068269.3750\n",
            "Epoch 289/300\n",
            "\u001b[1m6/6\u001b[0m \u001b[32m━━━━━━━━━━━━━━━━━━━━\u001b[0m\u001b[37m\u001b[0m \u001b[1m0s\u001b[0m 19ms/step - loss: 1714370510848.0000 - mae: 995262.5625 - val_loss: 2004135706624.0000 - val_mae: 1066042.1250\n",
            "Epoch 290/300\n",
            "\u001b[1m6/6\u001b[0m \u001b[32m━━━━━━━━━━━━━━━━━━━━\u001b[0m\u001b[37m\u001b[0m \u001b[1m0s\u001b[0m 16ms/step - loss: 1741114966016.0000 - mae: 996024.1250 - val_loss: 1996194185216.0000 - val_mae: 1063915.2500\n",
            "Epoch 291/300\n",
            "\u001b[1m6/6\u001b[0m \u001b[32m━━━━━━━━━━━━━━━━━━━━\u001b[0m\u001b[37m\u001b[0m \u001b[1m0s\u001b[0m 17ms/step - loss: 1849355927552.0000 - mae: 1045426.2500 - val_loss: 1988120150016.0000 - val_mae: 1061741.7500\n",
            "Epoch 292/300\n",
            "\u001b[1m6/6\u001b[0m \u001b[32m━━━━━━━━━━━━━━━━━━━━\u001b[0m\u001b[37m\u001b[0m \u001b[1m0s\u001b[0m 16ms/step - loss: 1724492283904.0000 - mae: 998247.4375 - val_loss: 1979598110720.0000 - val_mae: 1059263.2500\n",
            "Epoch 293/300\n",
            "\u001b[1m6/6\u001b[0m \u001b[32m━━━━━━━━━━━━━━━━━━━━\u001b[0m\u001b[37m\u001b[0m \u001b[1m0s\u001b[0m 16ms/step - loss: 1667453157376.0000 - mae: 969857.7500 - val_loss: 1971856343040.0000 - val_mae: 1056926.8750\n",
            "Epoch 294/300\n",
            "\u001b[1m6/6\u001b[0m \u001b[32m━━━━━━━━━━━━━━━━━━━━\u001b[0m\u001b[37m\u001b[0m \u001b[1m0s\u001b[0m 16ms/step - loss: 1756740321280.0000 - mae: 1020999.0625 - val_loss: 1964407390208.0000 - val_mae: 1054808.8750\n",
            "Epoch 295/300\n",
            "\u001b[1m6/6\u001b[0m \u001b[32m━━━━━━━━━━━━━━━━━━━━\u001b[0m\u001b[37m\u001b[0m \u001b[1m0s\u001b[0m 15ms/step - loss: 1898447372288.0000 - mae: 1057055.2500 - val_loss: 1954723397632.0000 - val_mae: 1052052.7500\n",
            "Epoch 296/300\n",
            "\u001b[1m6/6\u001b[0m \u001b[32m━━━━━━━━━━━━━━━━━━━━\u001b[0m\u001b[37m\u001b[0m \u001b[1m0s\u001b[0m 16ms/step - loss: 2054541410304.0000 - mae: 1063980.3750 - val_loss: 1946513702912.0000 - val_mae: 1049956.3750\n",
            "Epoch 297/300\n",
            "\u001b[1m6/6\u001b[0m \u001b[32m━━━━━━━━━━━━━━━━━━━━\u001b[0m\u001b[37m\u001b[0m \u001b[1m0s\u001b[0m 18ms/step - loss: 1735349895168.0000 - mae: 993978.0000 - val_loss: 1939908329472.0000 - val_mae: 1048148.9375\n",
            "Epoch 298/300\n",
            "\u001b[1m6/6\u001b[0m \u001b[32m━━━━━━━━━━━━━━━━━━━━\u001b[0m\u001b[37m\u001b[0m \u001b[1m0s\u001b[0m 16ms/step - loss: 1698111291392.0000 - mae: 995265.0625 - val_loss: 1932528975872.0000 - val_mae: 1046112.3750\n",
            "Epoch 299/300\n",
            "\u001b[1m6/6\u001b[0m \u001b[32m━━━━━━━━━━━━━━━━━━━━\u001b[0m\u001b[37m\u001b[0m \u001b[1m0s\u001b[0m 16ms/step - loss: 1718161899520.0000 - mae: 999258.3750 - val_loss: 1925515575296.0000 - val_mae: 1044169.7500\n",
            "Epoch 300/300\n",
            "\u001b[1m6/6\u001b[0m \u001b[32m━━━━━━━━━━━━━━━━━━━━\u001b[0m\u001b[37m\u001b[0m \u001b[1m0s\u001b[0m 17ms/step - loss: 1800295022592.0000 - mae: 1029497.3125 - val_loss: 1918455382016.0000 - val_mae: 1042102.2500\n"
          ]
        }
      ]
    },
    {
      "cell_type": "code",
      "source": [
        "y_pred = model.predict(X_test_scaled)"
      ],
      "metadata": {
        "colab": {
          "base_uri": "https://localhost:8080/"
        },
        "id": "TMdsbeg0Bu8B",
        "outputId": "63541b3e-374d-4618-f4ab-4eccfd131950"
      },
      "execution_count": null,
      "outputs": [
        {
          "output_type": "stream",
          "name": "stdout",
          "text": [
            "\u001b[1m4/4\u001b[0m \u001b[32m━━━━━━━━━━━━━━━━━━━━\u001b[0m\u001b[37m\u001b[0m \u001b[1m0s\u001b[0m 19ms/step\n"
          ]
        }
      ]
    },
    {
      "cell_type": "code",
      "source": [
        "y_pred"
      ],
      "metadata": {
        "colab": {
          "base_uri": "https://localhost:8080/"
        },
        "id": "l8rpItjBBxpd",
        "outputId": "aedad9a8-eb83-4a9f-a921-4faa214730c9"
      },
      "execution_count": null,
      "outputs": [
        {
          "output_type": "execute_result",
          "data": {
            "text/plain": [
              "array([[ 1719452.1],\n",
              "       [ 7543292. ],\n",
              "       [ 3825104.8],\n",
              "       [ 4011628.2],\n",
              "       [ 3061239. ],\n",
              "       [ 3208527.8],\n",
              "       [ 4799444. ],\n",
              "       [ 6293549. ],\n",
              "       [ 1959690.2],\n",
              "       [ 2678201.2],\n",
              "       [13421124. ],\n",
              "       [ 3891025.8],\n",
              "       [ 2510154. ],\n",
              "       [ 2072732.9],\n",
              "       [ 3037197. ],\n",
              "       [ 1085987.4],\n",
              "       [ 3603428.2],\n",
              "       [ 3265422. ],\n",
              "       [ 2987878. ],\n",
              "       [ 3809761.8],\n",
              "       [ 5111127.5],\n",
              "       [ 6112207. ],\n",
              "       [ 3911659. ],\n",
              "       [ 3835986.5],\n",
              "       [ 4594052.5],\n",
              "       [ 8209779. ],\n",
              "       [ 3018020.2],\n",
              "       [ 3921261.8],\n",
              "       [ 9553347. ],\n",
              "       [ 3299519.8],\n",
              "       [ 6605546.5],\n",
              "       [ 2706256.5],\n",
              "       [ 6392509. ],\n",
              "       [ 3667473.5],\n",
              "       [ 2821146.5],\n",
              "       [ 5535641.5],\n",
              "       [ 3874798.2],\n",
              "       [ 3646294.5],\n",
              "       [ 2038203. ],\n",
              "       [ 3625241.8],\n",
              "       [ 3753459. ],\n",
              "       [ 3214127. ],\n",
              "       [ 7514263. ],\n",
              "       [ 2765089.5],\n",
              "       [ 3834585.2],\n",
              "       [ 2842994.8],\n",
              "       [ 7306503.5],\n",
              "       [ 3613359.5],\n",
              "       [ 3657180.5],\n",
              "       [ 2892366.2],\n",
              "       [ 7726214. ],\n",
              "       [ 3478236. ],\n",
              "       [ 3152209.5],\n",
              "       [ 1746083.9],\n",
              "       [ 2894295. ],\n",
              "       [ 2650513. ],\n",
              "       [ 7619274. ],\n",
              "       [ 3124915.2],\n",
              "       [ 3866249.8],\n",
              "       [ 3900465.5],\n",
              "       [ 3597507.8],\n",
              "       [ 1900510.6],\n",
              "       [ 4242001.5],\n",
              "       [ 3288093.2],\n",
              "       [ 3067993.2],\n",
              "       [ 4107272. ],\n",
              "       [ 6460314.5],\n",
              "       [ 3019519.5],\n",
              "       [ 5762380. ],\n",
              "       [ 6380920.5],\n",
              "       [ 1667636. ],\n",
              "       [ 4709118. ],\n",
              "       [ 3213648.5],\n",
              "       [ 8782871. ],\n",
              "       [ 2831698. ],\n",
              "       [ 4675298.5],\n",
              "       [ 3162440. ],\n",
              "       [ 4188942.8],\n",
              "       [ 3612528.8],\n",
              "       [ 1600914.8],\n",
              "       [ 9693905. ],\n",
              "       [ 3244743.2],\n",
              "       [ 6225935. ],\n",
              "       [ 4258247. ],\n",
              "       [ 3165890.8],\n",
              "       [ 5432182.5],\n",
              "       [ 3403313.2],\n",
              "       [ 3163795.5],\n",
              "       [10091221. ],\n",
              "       [ 8316326.5],\n",
              "       [ 1721396.9],\n",
              "       [ 5300228.5],\n",
              "       [ 3511790. ],\n",
              "       [ 1954485.6],\n",
              "       [ 9354969. ],\n",
              "       [ 3761436.2],\n",
              "       [ 4431464. ],\n",
              "       [ 6090591. ],\n",
              "       [ 3401144. ],\n",
              "       [ 6113439. ],\n",
              "       [ 3094599.5],\n",
              "       [ 6137188. ],\n",
              "       [ 3418443. ],\n",
              "       [ 5149688.5],\n",
              "       [ 4546834. ],\n",
              "       [ 1327717.5],\n",
              "       [ 8894985. ],\n",
              "       [ 6095496.5],\n",
              "       [ 6010671.5]], dtype=float32)"
            ]
          },
          "metadata": {},
          "execution_count": 18
        }
      ]
    },
    {
      "cell_type": "code",
      "source": [
        "y_pred = (y_pred > 0.5).astype(int)"
      ],
      "metadata": {
        "id": "LzGc5Y8rB4rP"
      },
      "execution_count": null,
      "outputs": []
    },
    {
      "cell_type": "code",
      "source": [
        "from sklearn.metrics import mean_absolute_error\n",
        "\n",
        "mae = mean_absolute_error(y_test, y_pred)\n",
        "print(\"MAE:\", mae)\n"
      ],
      "metadata": {
        "colab": {
          "base_uri": "https://localhost:8080/"
        },
        "id": "4QfY_QxRB7hZ",
        "outputId": "06b34c37-3055-4f7e-e291-3488503af4e0"
      },
      "execution_count": null,
      "outputs": [
        {
          "output_type": "stream",
          "name": "stdout",
          "text": [
            "MAE: 5007535.697247706\n"
          ]
        }
      ]
    },
    {
      "cell_type": "code",
      "source": [
        "import pickle\n",
        "pickle.dump(model,open('model.pkl','wb'))"
      ],
      "metadata": {
        "id": "ME-F2soYCBLr"
      },
      "execution_count": null,
      "outputs": []
    }
  ]
}