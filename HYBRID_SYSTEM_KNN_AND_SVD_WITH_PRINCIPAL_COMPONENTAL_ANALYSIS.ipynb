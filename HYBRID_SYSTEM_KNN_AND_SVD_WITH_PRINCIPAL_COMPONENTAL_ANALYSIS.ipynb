{
  "nbformat": 4,
  "nbformat_minor": 0,
  "metadata": {
    "colab": {
      "provenance": [],
      "gpuType": "T4",
      "authorship_tag": "ABX9TyOvPK0Jzoikiq+kj7TLDWr5",
      "include_colab_link": true
    },
    "kernelspec": {
      "name": "python3",
      "display_name": "Python 3"
    },
    "language_info": {
      "name": "python"
    },
    "accelerator": "GPU"
  },
  "cells": [
    {
      "cell_type": "markdown",
      "metadata": {
        "id": "view-in-github",
        "colab_type": "text"
      },
      "source": [
        "<a href=\"https://colab.research.google.com/github/AUMANSH/Data-Science-Projects/blob/main/HYBRID_SYSTEM_KNN_AND_SVD_WITH_PRINCIPAL_COMPONENTAL_ANALYSIS.ipynb\" target=\"_parent\"><img src=\"https://colab.research.google.com/assets/colab-badge.svg\" alt=\"Open In Colab\"/></a>"
      ]
    },
    {
      "cell_type": "code",
      "execution_count": null,
      "metadata": {
        "id": "pzjQ_ANGXtGI"
      },
      "outputs": [],
      "source": [
        "import numpy as np\n",
        "from sklearn.datasets import fetch_lfw_people\n",
        "from sklearn.model_selection import train_test_split\n",
        "from sklearn.neighbors import KNeighborsClassifier\n",
        "from sklearn.utils import shuffle\n",
        "\n",
        "# Load datasets\n",
        "auth_data = fetch_lfw_people(min_faces_per_person=70, resize=0.4)\n",
        "intruder_data = fetch_lfw_people(min_faces_per_person=1, resize=0.4)\n",
        "\n",
        "# Filter authorized to exclude unknown people\n",
        "auth_names = set(auth_data.target_names)\n",
        "intruder_mask = [name not in auth_names for name in intruder_data.target]\n",
        "X_intruder = intruder_data.data[intruder_mask][:300]\n",
        "y_intruder = np.zeros(X_intruder.shape[0])\n",
        "\n",
        "# Intruders\n",
        "X_auth = auth_data.data\n",
        "y_auth = np.ones(X_auth.shape[0])\n",
        "\n",
        "# Combine and shuffle\n",
        "X_all = np.vstack([X_auth, X_intruder])\n",
        "y_all = np.hstack([y_auth, y_intruder])\n",
        "X_all, y_all = shuffle(X_all, y_all, random_state=42)\n",
        "\n",
        "# Train-test split\n",
        "X_train, X_test, y_train, y_test = train_test_split(X_all, y_all, stratify=y_all, test_size=0.3, random_state=42)\n",
        "\n",
        "# PCA via SVD\n",
        "mean_face = np.mean(X_train, axis=0)\n",
        "X_train_centered = X_train - mean_face\n",
        "X_test_centered = X_test - mean_face\n",
        "\n",
        "U, S, Vt = np.linalg.svd(X_train_centered.T, full_matrices=False)\n",
        "eigenfaces_k = U[:, :150]\n",
        "\n",
        "X_train_reduced = np.dot(X_train_centered, eigenfaces_k)\n",
        "X_test_reduced = np.dot(X_test_centered, eigenfaces_k)\n",
        "\n",
        "# Train KNN on PCA projections\n",
        "knn = KNeighborsClassifier(n_neighbors=3)\n",
        "knn.fit(X_train_reduced, y_train)\n",
        "\n",
        "# Save everything needed for test and evaluation\n",
        "np.save(\"mean_face.npy\", mean_face)\n",
        "np.save(\"eigenfaces_k.npy\", eigenfaces_k)\n",
        "np.save(\"X_test_reduced.npy\", X_test_reduced)\n",
        "np.save(\"y_test.npy\", y_test)\n",
        "import pickle\n",
        "with open(\"knn_model.pkl\", \"wb\") as f:\n",
        "    pickle.dump(knn, f)\n"
      ]
    },
    {
      "cell_type": "code",
      "source": [
        "import numpy as np\n",
        "import pickle\n",
        "from skimage.io import imread\n",
        "from skimage.transform import resize\n",
        "\n",
        "# Load saved model and data\n",
        "mean_face = np.load(\"mean_face.npy\")\n",
        "eigenfaces_k = np.load(\"eigenfaces_k.npy\")\n",
        "with open(\"knn_model.pkl\", \"rb\") as f:\n",
        "    knn = pickle.load(f)\n",
        "\n",
        "# Test function\n",
        "def test_hybrid_knn(image_path):\n",
        "    img = imread(image_path, as_gray=True)\n",
        "    img_resized = resize(img, (50, 37), anti_aliasing=True)\n",
        "    img_vector = img_resized.flatten()\n",
        "    img_centered = img_vector - mean_face\n",
        "    img_proj = np.dot(img_centered, eigenfaces_k)\n",
        "\n",
        "    pred = knn.predict([img_proj])[0]\n",
        "    result = \"Authorized\" if pred == 0 else \"Intruder\"\n",
        "    print(f\"[Hybrid KNN] {result} (Predicted Label: {int(pred)})\")\n",
        "    return pred\n",
        "\n",
        "# Example usage:\n",
        "test_hybrid_knn(\"/content/WhatsApp Image 2025-06-13 at 12.09.24_94781037.jpg\")\n"
      ],
      "metadata": {
        "colab": {
          "base_uri": "https://localhost:8080/"
        },
        "id": "hiPcnxdYAX3N",
        "outputId": "a0ed50f8-9492-437f-a3d4-f135bf6de276"
      },
      "execution_count": null,
      "outputs": [
        {
          "output_type": "stream",
          "name": "stdout",
          "text": [
            "[Hybrid KNN] Intruder (Predicted Label: 1)\n"
          ]
        },
        {
          "output_type": "execute_result",
          "data": {
            "text/plain": [
              "np.float64(1.0)"
            ]
          },
          "metadata": {},
          "execution_count": 3
        }
      ]
    },
    {
      "cell_type": "code",
      "source": [
        "import numpy as np\n",
        "import pickle\n",
        "from sklearn.metrics import accuracy_score, precision_score, recall_score, f1_score\n",
        "import pandas as pd\n",
        "\n",
        "# Load saved test set and model\n",
        "X_test_reduced = np.load(\"X_test_reduced.npy\")\n",
        "y_test = np.load(\"y_test.npy\")\n",
        "with open(\"knn_model.pkl\", \"rb\") as f:\n",
        "    knn = pickle.load(f)\n",
        "\n",
        "# Predict and evaluate\n",
        "y_pred = knn.predict(X_test_reduced)\n",
        "\n",
        "acc = accuracy_score(y_test, y_pred)\n",
        "prec = precision_score(y_test, y_pred)\n",
        "recall = recall_score(y_test, y_pred)\n",
        "f1 = f1_score(y_test, y_pred)\n",
        "\n",
        "# Display in table\n",
        "df = pd.DataFrame({\n",
        "    \"Metric\": [\"Accuracy\", \"Precision\", \"Recall\", \"F1-Score\"],\n",
        "    \"Hybrid PCA+SVD+KNN\": [acc, prec, recall, f1]\n",
        "})\n",
        "\n",
        "print(df)\n"
      ],
      "metadata": {
        "id": "M4nuyisqBBND",
        "outputId": "25736ebf-1ed7-4903-deb6-0486dbafc952",
        "colab": {
          "base_uri": "https://localhost:8080/"
        }
      },
      "execution_count": null,
      "outputs": [
        {
          "output_type": "stream",
          "name": "stdout",
          "text": [
            "      Metric  Hybrid PCA+SVD+KNN\n",
            "0   Accuracy            0.813417\n",
            "1  Precision            0.829646\n",
            "2     Recall            0.968992\n",
            "3   F1-Score            0.893921\n"
          ]
        }
      ]
    }
  ]
}